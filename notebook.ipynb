{
 "cells": [
  {
   "cell_type": "markdown",
   "id": "e17e0e52",
   "metadata": {},
   "source": [
    "# Initialization"
   ]
  },
  {
   "cell_type": "code",
   "id": "6fe6dc27",
   "metadata": {
    "ExecuteTime": {
     "end_time": "2025-05-10T09:57:35.290703Z",
     "start_time": "2025-05-10T09:57:35.201554Z"
    }
   },
   "source": [
    "%load_ext autoreload\n",
    "%autoreload 2"
   ],
   "outputs": [],
   "execution_count": 1
  },
  {
   "cell_type": "code",
   "id": "c53a1b5d",
   "metadata": {
    "ExecuteTime": {
     "end_time": "2025-05-10T09:57:37.101018Z",
     "start_time": "2025-05-10T09:57:35.982139Z"
    }
   },
   "source": [
    "# initialization\n",
    "import pandas as pd\n",
    "import matplotlib.pyplot as plt\n",
    "import seaborn as sns\n",
    "from Dora_EDA import MyModel\n",
    "sns.set_theme(style=\"whitegrid\")\n",
    "plt.rcParams['figure.figsize'] = (10, 6) "
   ],
   "outputs": [],
   "execution_count": 2
  },
  {
   "cell_type": "markdown",
   "id": "7de8626e",
   "metadata": {},
   "source": [
    "# Exploratory Data Analysis"
   ]
  },
  {
   "cell_type": "code",
   "id": "89366dfc",
   "metadata": {
    "ExecuteTime": {
     "end_time": "2025-05-10T13:03:12.648354Z",
     "start_time": "2025-05-10T13:03:05.051735Z"
    }
   },
   "source": [
    "model = MyModel()\n",
    "model.load_data(filepath=\"training_set_VU_DM.csv\")\n",
    "model2 = MyModel()\n",
    "model2.load_data(filepath=\"test_set_VU_DM.csv\")\n",
    "\n",
    "#Finds and removes columns that have more than 80% missing values\n",
    "high_missing_cols = model.get_columns_with_high_missing(threshold=0.8)\n",
    "model.drop_columns(high_missing_cols)\n",
    "model2.drop_columns(high_missing_cols)\n",
    "model.drop_columns(['date_time'])\n",
    "model2.drop_columns(['date_time'])\n",
    "\n",
    "#Prints the new dataset after dropping columns\n",
    "print(\"New dataframe after dropping high-missing columns:\")\n",
    "print(model.dataframe)\n",
    "\n",
    "#Prints out the summary of numericals columns such as range mean...\n",
    "model.summarize_numerical_columns()\n",
    "model.get_non_numerical_columns()\n",
    "\n",
    "#Prints out columns that have missing values still\n",
    "model.get_columns_with_missing_values()\n",
    "\n",
    "\n",
    "#Mention why data is clean"
   ],
   "outputs": [
    {
     "name": "stdout",
     "output_type": "stream",
     "text": [
      "Loading data from: training_set_VU_DM.csv using Polars\n",
      "Data loaded: (4958347, 54) (rows, cols) in 3.64 seconds.\n",
      "Loading data from: test_set_VU_DM.csv using Polars\n",
      "Data loaded: (4959183, 50) (rows, cols) in 2.82 seconds.\n",
      "Columns with more than 80% missing values: ['visitor_hist_starrating', 'visitor_hist_adr_usd', 'srch_query_affinity_score', 'comp1_rate', 'comp1_inv', 'comp1_rate_percent_diff', 'comp2_rate_percent_diff', 'comp3_rate_percent_diff', 'comp4_rate', 'comp4_inv', 'comp4_rate_percent_diff', 'comp5_rate_percent_diff', 'comp6_rate', 'comp6_inv', 'comp6_rate_percent_diff', 'comp7_rate', 'comp7_inv', 'comp7_rate_percent_diff', 'comp8_rate_percent_diff', 'gross_bookings_usd']\n",
      "Dropping columns: ['visitor_hist_starrating', 'visitor_hist_adr_usd', 'srch_query_affinity_score', 'comp1_rate', 'comp1_inv', 'comp1_rate_percent_diff', 'comp2_rate_percent_diff', 'comp3_rate_percent_diff', 'comp4_rate', 'comp4_inv', 'comp4_rate_percent_diff', 'comp5_rate_percent_diff', 'comp6_rate', 'comp6_inv', 'comp6_rate_percent_diff', 'comp7_rate', 'comp7_inv', 'comp7_rate_percent_diff', 'comp8_rate_percent_diff', 'gross_bookings_usd']\n",
      "Remaining columns: ['srch_id', 'date_time', 'site_id', 'visitor_location_country_id', 'prop_country_id', 'prop_id', 'prop_starrating', 'prop_review_score', 'prop_brand_bool', 'prop_location_score1', 'prop_location_score2', 'prop_log_historical_price', 'position', 'price_usd', 'promotion_flag', 'srch_destination_id', 'srch_length_of_stay', 'srch_booking_window', 'srch_adults_count', 'srch_children_count', 'srch_room_count', 'srch_saturday_night_bool', 'orig_destination_distance', 'random_bool', 'comp2_rate', 'comp2_inv', 'comp3_rate', 'comp3_inv', 'comp5_rate', 'comp5_inv', 'comp8_rate', 'comp8_inv', 'click_bool', 'booking_bool']\n",
      "Dataframe shape after dropping columns: (4958347, 34)\n",
      "Dropping columns: ['visitor_hist_starrating', 'visitor_hist_adr_usd', 'srch_query_affinity_score', 'comp1_rate', 'comp1_inv', 'comp1_rate_percent_diff', 'comp2_rate_percent_diff', 'comp3_rate_percent_diff', 'comp4_rate', 'comp4_inv', 'comp4_rate_percent_diff', 'comp5_rate_percent_diff', 'comp6_rate', 'comp6_inv', 'comp6_rate_percent_diff', 'comp7_rate', 'comp7_inv', 'comp7_rate_percent_diff', 'comp8_rate_percent_diff', 'gross_bookings_usd']\n",
      "Warning: Columns not found and ignored: ['gross_bookings_usd']\n",
      "Remaining columns: ['srch_id', 'date_time', 'site_id', 'visitor_location_country_id', 'prop_country_id', 'prop_id', 'prop_starrating', 'prop_review_score', 'prop_brand_bool', 'prop_location_score1', 'prop_location_score2', 'prop_log_historical_price', 'price_usd', 'promotion_flag', 'srch_destination_id', 'srch_length_of_stay', 'srch_booking_window', 'srch_adults_count', 'srch_children_count', 'srch_room_count', 'srch_saturday_night_bool', 'orig_destination_distance', 'random_bool', 'comp2_rate', 'comp2_inv', 'comp3_rate', 'comp3_inv', 'comp5_rate', 'comp5_inv', 'comp8_rate', 'comp8_inv']\n",
      "Dataframe shape after dropping columns: (4959183, 31)\n",
      "Dropping columns: ['date_time']\n",
      "Remaining columns: ['srch_id', 'site_id', 'visitor_location_country_id', 'prop_country_id', 'prop_id', 'prop_starrating', 'prop_review_score', 'prop_brand_bool', 'prop_location_score1', 'prop_location_score2', 'prop_log_historical_price', 'position', 'price_usd', 'promotion_flag', 'srch_destination_id', 'srch_length_of_stay', 'srch_booking_window', 'srch_adults_count', 'srch_children_count', 'srch_room_count', 'srch_saturday_night_bool', 'orig_destination_distance', 'random_bool', 'comp2_rate', 'comp2_inv', 'comp3_rate', 'comp3_inv', 'comp5_rate', 'comp5_inv', 'comp8_rate', 'comp8_inv', 'click_bool', 'booking_bool']\n",
      "Dataframe shape after dropping columns: (4958347, 33)\n",
      "Dropping columns: ['date_time']\n",
      "Remaining columns: ['srch_id', 'site_id', 'visitor_location_country_id', 'prop_country_id', 'prop_id', 'prop_starrating', 'prop_review_score', 'prop_brand_bool', 'prop_location_score1', 'prop_location_score2', 'prop_log_historical_price', 'price_usd', 'promotion_flag', 'srch_destination_id', 'srch_length_of_stay', 'srch_booking_window', 'srch_adults_count', 'srch_children_count', 'srch_room_count', 'srch_saturday_night_bool', 'orig_destination_distance', 'random_bool', 'comp2_rate', 'comp2_inv', 'comp3_rate', 'comp3_inv', 'comp5_rate', 'comp5_inv', 'comp8_rate', 'comp8_inv']\n",
      "Dataframe shape after dropping columns: (4959183, 30)\n",
      "New dataframe after dropping high-missing columns:\n",
      "shape: (4_958_347, 33)\n",
      "┌─────────┬─────────┬────────────┬────────────┬───┬────────────┬───────────┬───────────┬───────────┐\n",
      "│ srch_id ┆ site_id ┆ visitor_lo ┆ prop_count ┆ … ┆ comp8_rate ┆ comp8_inv ┆ click_boo ┆ booking_b │\n",
      "│ ---     ┆ ---     ┆ cation_cou ┆ ry_id      ┆   ┆ ---        ┆ ---       ┆ l         ┆ ool       │\n",
      "│ i64     ┆ i64     ┆ ntry_id    ┆ ---        ┆   ┆ i64        ┆ i64       ┆ ---       ┆ ---       │\n",
      "│         ┆         ┆ ---        ┆ i64        ┆   ┆            ┆           ┆ i64       ┆ i64       │\n",
      "│         ┆         ┆ i64        ┆            ┆   ┆            ┆           ┆           ┆           │\n",
      "╞═════════╪═════════╪════════════╪════════════╪═══╪════════════╪═══════════╪═══════════╪═══════════╡\n",
      "│ 1       ┆ 12      ┆ 187        ┆ 219        ┆ … ┆ 0          ┆ 0         ┆ 0         ┆ 0         │\n",
      "│ 1       ┆ 12      ┆ 187        ┆ 219        ┆ … ┆ 0          ┆ 0         ┆ 0         ┆ 0         │\n",
      "│ 1       ┆ 12      ┆ 187        ┆ 219        ┆ … ┆ 0          ┆ 0         ┆ 0         ┆ 0         │\n",
      "│ 1       ┆ 12      ┆ 187        ┆ 219        ┆ … ┆ -1         ┆ 0         ┆ 0         ┆ 0         │\n",
      "│ 1       ┆ 12      ┆ 187        ┆ 219        ┆ … ┆ 0          ┆ 0         ┆ 0         ┆ 0         │\n",
      "│ …       ┆ …       ┆ …          ┆ …          ┆ … ┆ …          ┆ …         ┆ …         ┆ …         │\n",
      "│ 332785  ┆ 5       ┆ 219        ┆ 219        ┆ … ┆ null       ┆ null      ┆ 0         ┆ 0         │\n",
      "│ 332785  ┆ 5       ┆ 219        ┆ 219        ┆ … ┆ null       ┆ null      ┆ 0         ┆ 0         │\n",
      "│ 332785  ┆ 5       ┆ 219        ┆ 219        ┆ … ┆ null       ┆ null      ┆ 0         ┆ 0         │\n",
      "│ 332785  ┆ 5       ┆ 219        ┆ 219        ┆ … ┆ null       ┆ null      ┆ 1         ┆ 1         │\n",
      "│ 332785  ┆ 5       ┆ 219        ┆ 219        ┆ … ┆ null       ┆ null      ┆ 0         ┆ 0         │\n",
      "└─────────┴─────────┴────────────┴────────────┴───┴────────────┴───────────┴───────────┴───────────┘\n",
      "\n",
      "Numerical Column Summary:\n",
      "Column: srch_id\n",
      "  Range: 1–332785\n",
      "  Median: 166507.0\n",
      "  Mean: 166366.5610960669\n",
      "Column: site_id\n",
      "  Range: 1–34\n",
      "  Median: 5.0\n",
      "  Mean: 9.953133372876081\n",
      "Column: visitor_location_country_id\n",
      "  Range: 1–231\n",
      "  Median: 219.0\n",
      "  Mean: 175.3404531792551\n",
      "Column: prop_country_id\n",
      "  Range: 1–230\n",
      "  Median: 219.0\n",
      "  Mean: 173.97389674421737\n",
      "Column: prop_id\n",
      "  Range: 1–140821\n",
      "  Median: 69638.0\n",
      "  Mean: 70079.17949631198\n",
      "Column: prop_starrating\n",
      "  Range: 0–5\n",
      "  Median: 3.0\n",
      "  Mean: 3.1805254856104264\n",
      "Column: prop_review_score\n",
      "  Range: 0.0–5.0\n",
      "  Median: 4.0\n",
      "  Mean: 3.7777767566562033\n",
      "Column: prop_brand_bool\n",
      "  Range: 0–1\n",
      "  Median: 1.0\n",
      "  Mean: 0.6346994270469574\n",
      "Column: prop_location_score1\n",
      "  Range: 0.0–6.98\n",
      "  Median: 2.77\n",
      "  Mean: 2.8725885985793242\n",
      "Column: prop_location_score2\n",
      "  Range: 0.0–1.0\n",
      "  Median: 0.069\n",
      "  Mean: 0.13038516788654803\n",
      "Column: prop_log_historical_price\n",
      "  Range: 0.0–6.21\n",
      "  Median: 4.91\n",
      "  Mean: 4.3179133166759\n",
      "Column: position\n",
      "  Range: 1–40\n",
      "  Median: 16.0\n",
      "  Mean: 16.85623636264263\n",
      "Column: price_usd\n",
      "  Range: 0.0–19726328.0\n",
      "  Median: 122.0\n",
      "  Mean: 254.20958985524786\n",
      "Column: promotion_flag\n",
      "  Range: 0–1\n",
      "  Median: 0.0\n",
      "  Mean: 0.215619842661274\n",
      "Column: srch_destination_id\n",
      "  Range: 2–28416\n",
      "  Median: 13541.0\n",
      "  Mean: 14042.630392548162\n",
      "Column: srch_length_of_stay\n",
      "  Range: 1–57\n",
      "  Median: 2.0\n",
      "  Mean: 2.385427441847051\n",
      "Column: srch_booking_window\n",
      "  Range: 0–492\n",
      "  Median: 17.0\n",
      "  Mean: 37.47416507961222\n",
      "Column: srch_adults_count\n",
      "  Range: 1–9\n",
      "  Median: 2.0\n",
      "  Mean: 1.9726372518906\n",
      "Column: srch_children_count\n",
      "  Range: 0–9\n",
      "  Median: 0.0\n",
      "  Mean: 0.3504918070477923\n",
      "Column: srch_room_count\n",
      "  Range: 1–8\n",
      "  Median: 1.0\n",
      "  Mean: 1.1105249390573109\n",
      "Column: srch_saturday_night_bool\n",
      "  Range: 0–1\n",
      "  Median: 1.0\n",
      "  Mean: 0.5022127333968357\n",
      "Column: orig_destination_distance\n",
      "  Range: 0.01–11666.64\n",
      "  Median: 386.6\n",
      "  Mean: 1301.2344059971977\n",
      "Column: random_bool\n",
      "  Range: 0–1\n",
      "  Median: 0.0\n",
      "  Mean: 0.29590042810638306\n",
      "Column: comp2_rate\n",
      "  Range: -1–1\n",
      "  Median: 0.0\n",
      "  Mean: 0.04418987371781701\n",
      "Column: comp2_inv\n",
      "  Range: -1–1\n",
      "  Median: 0.0\n",
      "  Mean: 0.03931005896438431\n",
      "Column: comp3_rate\n",
      "  Range: -1–1\n",
      "  Median: 0.0\n",
      "  Mean: 0.017290104595747344\n",
      "Column: comp3_inv\n",
      "  Range: -1–1\n",
      "  Median: 0.0\n",
      "  Mean: 0.057768974978649176\n",
      "Column: comp5_rate\n",
      "  Range: -1–1\n",
      "  Median: 0.0\n",
      "  Mean: 0.022676211419055216\n",
      "Column: comp5_inv\n",
      "  Range: -1–1\n",
      "  Median: 0.0\n",
      "  Mean: 0.051428801450835164\n",
      "Column: comp8_rate\n",
      "  Range: -1–1\n",
      "  Median: 0.0\n",
      "  Mean: -0.06089935898706809\n",
      "Column: comp8_inv\n",
      "  Range: -1–1\n",
      "  Median: 0.0\n",
      "  Mean: 0.00996275225748087\n",
      "Column: click_bool\n",
      "  Range: 0–1\n",
      "  Median: 0.0\n",
      "  Mean: 0.04474858254172207\n",
      "Column: booking_bool\n",
      "  Range: 0–1\n",
      "  Median: 0.0\n",
      "  Mean: 0.027910511305481445\n",
      "Non-numerical columns: []\n",
      "Columns with missing values:\n",
      "  prop_review_score: 7364 missing\n",
      "  prop_location_score2: 1090348 missing\n",
      "  orig_destination_distance: 1607782 missing\n",
      "  comp2_rate: 2933675 missing\n",
      "  comp2_inv: 2828078 missing\n",
      "  comp3_rate: 3424059 missing\n",
      "  comp3_inv: 3307357 missing\n",
      "  comp5_rate: 2735974 missing\n",
      "  comp5_inv: 2598327 missing\n",
      "  comp8_rate: 3041693 missing\n",
      "  comp8_inv: 2970844 missing\n"
     ]
    },
    {
     "data": {
      "text/plain": [
       "['prop_review_score',\n",
       " 'prop_location_score2',\n",
       " 'orig_destination_distance',\n",
       " 'comp2_rate',\n",
       " 'comp2_inv',\n",
       " 'comp3_rate',\n",
       " 'comp3_inv',\n",
       " 'comp5_rate',\n",
       " 'comp5_inv',\n",
       " 'comp8_rate',\n",
       " 'comp8_inv']"
      ]
     },
     "execution_count": 38,
     "metadata": {},
     "output_type": "execute_result"
    }
   ],
   "execution_count": 38
  },
  {
   "cell_type": "markdown",
   "id": "a45f63dc",
   "metadata": {},
   "source": [
    "# Feature Engineering"
   ]
  },
  {
   "cell_type": "code",
   "id": "d2e7a357",
   "metadata": {
    "ExecuteTime": {
     "end_time": "2025-05-10T12:35:11.640991Z",
     "start_time": "2025-05-10T12:35:09.425137Z"
    }
   },
   "source": [
    "from Dora_EDA import FeatureEngineer\n",
    "\n",
    "# After your cleaning steps\n",
    "feature_engineer = FeatureEngineer(model.dataframe)\n",
    "df_imputed = feature_engineer.transform()\n",
    "df_imputed = feature_engineer.add_interaction_target()\n",
    "\n",
    "\n",
    "feature_engineer2 = FeatureEngineer(model2.dataframe)\n",
    "df_imputed_test = feature_engineer2.transform()\n",
    "# Set back to the model if needed\n",
    "model.dataframe = df_imputed\n",
    "model2.dataframe = df_imputed_test\n",
    "\n",
    "# Final check\n",
    "print(\"✅ Columns with missing values AFTER imputation:\")\n",
    "model.get_columns_with_missing_values()\n",
    "\n",
    "print(\"✅ Columns with missing values AFTER imputation:\")\n",
    "model2.get_columns_with_missing_values()\n",
    "\n",
    "\n"
   ],
   "outputs": [
    {
     "name": "stdout",
     "output_type": "stream",
     "text": [
      "\n",
      "=== FeatureEngineering (Auto-Imputation): Start ===\n",
      "Found 11 columns with missing values: ['prop_review_score', 'prop_location_score2', 'orig_destination_distance', 'comp2_rate', 'comp2_inv', 'comp3_rate', 'comp3_inv', 'comp5_rate', 'comp5_inv', 'comp8_rate', 'comp8_inv']\n",
      "Imputed prop_review_score (continuous numeric) with median: 4.0\n",
      "Imputed prop_location_score2 (continuous numeric) with median: 0.069\n",
      "Imputed orig_destination_distance (continuous numeric) with median: 386.6\n",
      "Imputed comp2_rate (binary/categorical numeric) with mode: 0\n",
      "Imputed comp2_inv (binary/categorical numeric) with mode: 0\n",
      "Imputed comp3_rate (binary/categorical numeric) with mode: 0\n",
      "Imputed comp3_inv (binary/categorical numeric) with mode: 0\n",
      "Imputed comp5_rate (binary/categorical numeric) with mode: 0\n",
      "Imputed comp5_inv (binary/categorical numeric) with mode: 0\n",
      "Imputed comp8_rate (binary/categorical numeric) with mode: 0\n",
      "Imputed comp8_inv (binary/categorical numeric) with mode: 0\n",
      "\n",
      "=== FeatureEngineering: Complete ===\n",
      "Binary/categorical numeric columns imputed: ['comp2_rate', 'comp2_inv', 'comp3_rate', 'comp3_inv', 'comp5_rate', 'comp5_inv', 'comp8_rate', 'comp8_inv']\n",
      "Continuous numeric columns imputed: ['prop_review_score', 'prop_location_score2', 'orig_destination_distance']\n",
      "\n",
      "=== FeatureEngineering (Target Engineering): Start ===\n",
      "✅ Adding interaction_target column (combining booking_bool and click_bool)...\n",
      "✅ interaction_target added!\n",
      "\n",
      "=== FeatureEngineering (Auto-Imputation): Start ===\n",
      "Found 11 columns with missing values: ['prop_review_score', 'prop_location_score2', 'orig_destination_distance', 'comp2_rate', 'comp2_inv', 'comp3_rate', 'comp3_inv', 'comp5_rate', 'comp5_inv', 'comp8_rate', 'comp8_inv']\n",
      "Imputed prop_review_score (continuous numeric) with median: 4.0\n",
      "Imputed prop_location_score2 (continuous numeric) with median: 0.0692\n",
      "Imputed orig_destination_distance (continuous numeric) with median: 387.85\n",
      "Imputed comp2_rate (binary/categorical numeric) with mode: 0\n",
      "Imputed comp2_inv (binary/categorical numeric) with mode: 0\n",
      "Imputed comp3_rate (binary/categorical numeric) with mode: 0\n",
      "Imputed comp3_inv (binary/categorical numeric) with mode: 0\n",
      "Imputed comp5_rate (binary/categorical numeric) with mode: 0\n",
      "Imputed comp5_inv (binary/categorical numeric) with mode: 0\n",
      "Imputed comp8_rate (binary/categorical numeric) with mode: 0\n",
      "Imputed comp8_inv (binary/categorical numeric) with mode: 0\n",
      "\n",
      "=== FeatureEngineering: Complete ===\n",
      "Binary/categorical numeric columns imputed: ['comp2_rate', 'comp2_inv', 'comp3_rate', 'comp3_inv', 'comp5_rate', 'comp5_inv', 'comp8_rate', 'comp8_inv']\n",
      "Continuous numeric columns imputed: ['prop_review_score', 'prop_location_score2', 'orig_destination_distance']\n",
      "✅ Columns with missing values AFTER imputation:\n",
      "No columns have missing values.\n",
      "✅ Columns with missing values AFTER imputation:\n",
      "No columns have missing values.\n",
      "srch_id\n",
      "date_time\n",
      "site_id\n",
      "visitor_location_country_id\n",
      "prop_country_id\n",
      "prop_id\n",
      "prop_starrating\n",
      "prop_review_score\n",
      "prop_brand_bool\n",
      "prop_location_score1\n",
      "prop_location_score2\n",
      "prop_log_historical_price\n",
      "price_usd\n",
      "promotion_flag\n",
      "srch_destination_id\n",
      "srch_length_of_stay\n",
      "srch_booking_window\n",
      "srch_adults_count\n",
      "srch_children_count\n",
      "srch_room_count\n",
      "srch_saturday_night_bool\n",
      "orig_destination_distance\n",
      "random_bool\n",
      "comp2_rate\n",
      "comp2_inv\n",
      "comp3_rate\n",
      "comp3_inv\n",
      "comp5_rate\n",
      "comp5_inv\n",
      "comp8_rate\n",
      "comp8_inv\n"
     ]
    }
   ],
   "execution_count": 31
  },
  {
   "metadata": {
    "ExecuteTime": {
     "end_time": "2025-05-10T12:40:02.788512Z",
     "start_time": "2025-05-10T12:40:02.733683Z"
    }
   },
   "cell_type": "code",
   "source": [
    "train_cols = set(model.dataframe.columns)\n",
    "test_cols = set(model2.dataframe.columns)\n",
    "\n",
    "# 1️⃣ Extra columns in train (but not in test) -- keep target though\n",
    "extra_in_train = train_cols - test_cols - {\"interaction_target\"}  # keep your target columns\n",
    "print(f\"Extra columns in train (dropping these): {extra_in_train}\")\n",
    "model.dataframe = model.dataframe.drop(list(extra_in_train))"
   ],
   "id": "5f3aa679f6434b65",
   "outputs": [
    {
     "name": "stdout",
     "output_type": "stream",
     "text": [
      "Extra columns in train (dropping these): {'click_bool', 'position', 'booking_bool'}\n"
     ]
    }
   ],
   "execution_count": 35
  },
  {
   "cell_type": "markdown",
   "id": "475bdc5c",
   "metadata": {},
   "source": [
    "# Modelling"
   ]
  },
  {
   "cell_type": "code",
   "id": "7a3554d9",
   "metadata": {
    "ExecuteTime": {
     "end_time": "2025-05-10T13:00:11.112626Z",
     "start_time": "2025-05-10T12:41:31.706588Z"
    }
   },
   "source": [
    "from Dora_EDA import HotelRanker\n",
    "\n",
    "ranker = HotelRanker(model.dataframe)\n",
    "ranker.train()\n",
    "predictions = ranker.predict(model2.dataframe)\n",
    "ranker.export_ranking(predictions, filename=\"submission.csv\")\n"
   ],
   "outputs": [
    {
     "name": "stdout",
     "output_type": "stream",
     "text": [
      "Preparing data...\n",
      "Using 28 feature columns: ['site_id', 'visitor_location_country_id', 'prop_country_id', 'prop_starrating', 'prop_review_score']... (and more)\n",
      "Training model...\n",
      "Validation Accuracy: 0.9550\n",
      "Predicting scores for ranking...\n"
     ]
    },
    {
     "ename": "ValueError",
     "evalue": "The feature names should match those that were passed during fit.\nFeature names unseen at fit time:\n- date_time\n",
     "output_type": "error",
     "traceback": [
      "\u001B[31m---------------------------------------------------------------------------\u001B[39m",
      "\u001B[31mValueError\u001B[39m                                Traceback (most recent call last)",
      "\u001B[36mCell\u001B[39m\u001B[36m \u001B[39m\u001B[32mIn[37]\u001B[39m\u001B[32m, line 5\u001B[39m\n\u001B[32m      3\u001B[39m ranker = HotelRanker(model.dataframe)\n\u001B[32m      4\u001B[39m ranker.train()\n\u001B[32m----> \u001B[39m\u001B[32m5\u001B[39m predictions = \u001B[43mranker\u001B[49m\u001B[43m.\u001B[49m\u001B[43mpredict\u001B[49m\u001B[43m(\u001B[49m\u001B[43mmodel2\u001B[49m\u001B[43m.\u001B[49m\u001B[43mdataframe\u001B[49m\u001B[43m)\u001B[49m\n\u001B[32m      6\u001B[39m ranker.export_ranking(predictions, filename=\u001B[33m\"\u001B[39m\u001B[33msubmission.csv\u001B[39m\u001B[33m\"\u001B[39m)\n",
      "\u001B[36mFile \u001B[39m\u001B[32m~/PycharmProjects/Data-Mining/Dora_EDA.py:618\u001B[39m, in \u001B[36mHotelRanker.predict\u001B[39m\u001B[34m(self, df_test)\u001B[39m\n\u001B[32m    615\u001B[39m feature_cols = [col \u001B[38;5;28;01mfor\u001B[39;00m col \u001B[38;5;129;01min\u001B[39;00m all_cols \u001B[38;5;28;01mif\u001B[39;00m col \u001B[38;5;129;01mnot\u001B[39;00m \u001B[38;5;129;01min\u001B[39;00m exclude]\n\u001B[32m    617\u001B[39m X_test = df_test.select(feature_cols).to_pandas()\n\u001B[32m--> \u001B[39m\u001B[32m618\u001B[39m scores = \u001B[38;5;28;43mself\u001B[39;49m\u001B[43m.\u001B[49m\u001B[43mmodel\u001B[49m\u001B[43m.\u001B[49m\u001B[43mpredict_proba\u001B[49m\u001B[43m(\u001B[49m\u001B[43mX_test\u001B[49m\u001B[43m)\u001B[49m[:, \u001B[32m1\u001B[39m]  \u001B[38;5;66;03m# Probability of booking = 1\u001B[39;00m\n\u001B[32m    620\u001B[39m \u001B[38;5;66;03m# Return Polars DataFrame for ranking\u001B[39;00m\n\u001B[32m    621\u001B[39m result = pl.DataFrame({\n\u001B[32m    622\u001B[39m     \u001B[33m'\u001B[39m\u001B[33msrch_id\u001B[39m\u001B[33m'\u001B[39m: df_test[\u001B[33m'\u001B[39m\u001B[33msrch_id\u001B[39m\u001B[33m'\u001B[39m],\n\u001B[32m    623\u001B[39m     \u001B[33m'\u001B[39m\u001B[33mprop_id\u001B[39m\u001B[33m'\u001B[39m: df_test[\u001B[33m'\u001B[39m\u001B[33mprop_id\u001B[39m\u001B[33m'\u001B[39m],\n\u001B[32m    624\u001B[39m     \u001B[33m'\u001B[39m\u001B[33mscore\u001B[39m\u001B[33m'\u001B[39m: scores\n\u001B[32m    625\u001B[39m })\n",
      "\u001B[36mFile \u001B[39m\u001B[32m~/PycharmProjects/Data-Mining/.venv/lib/python3.11/site-packages/sklearn/ensemble/_forest.py:946\u001B[39m, in \u001B[36mForestClassifier.predict_proba\u001B[39m\u001B[34m(self, X)\u001B[39m\n\u001B[32m    944\u001B[39m check_is_fitted(\u001B[38;5;28mself\u001B[39m)\n\u001B[32m    945\u001B[39m \u001B[38;5;66;03m# Check data\u001B[39;00m\n\u001B[32m--> \u001B[39m\u001B[32m946\u001B[39m X = \u001B[38;5;28;43mself\u001B[39;49m\u001B[43m.\u001B[49m\u001B[43m_validate_X_predict\u001B[49m\u001B[43m(\u001B[49m\u001B[43mX\u001B[49m\u001B[43m)\u001B[49m\n\u001B[32m    948\u001B[39m \u001B[38;5;66;03m# Assign chunk of trees to jobs\u001B[39;00m\n\u001B[32m    949\u001B[39m n_jobs, _, _ = _partition_estimators(\u001B[38;5;28mself\u001B[39m.n_estimators, \u001B[38;5;28mself\u001B[39m.n_jobs)\n",
      "\u001B[36mFile \u001B[39m\u001B[32m~/PycharmProjects/Data-Mining/.venv/lib/python3.11/site-packages/sklearn/ensemble/_forest.py:638\u001B[39m, in \u001B[36mBaseForest._validate_X_predict\u001B[39m\u001B[34m(self, X)\u001B[39m\n\u001B[32m    635\u001B[39m \u001B[38;5;28;01melse\u001B[39;00m:\n\u001B[32m    636\u001B[39m     ensure_all_finite = \u001B[38;5;28;01mTrue\u001B[39;00m\n\u001B[32m--> \u001B[39m\u001B[32m638\u001B[39m X = \u001B[43mvalidate_data\u001B[49m\u001B[43m(\u001B[49m\n\u001B[32m    639\u001B[39m \u001B[43m    \u001B[49m\u001B[38;5;28;43mself\u001B[39;49m\u001B[43m,\u001B[49m\n\u001B[32m    640\u001B[39m \u001B[43m    \u001B[49m\u001B[43mX\u001B[49m\u001B[43m,\u001B[49m\n\u001B[32m    641\u001B[39m \u001B[43m    \u001B[49m\u001B[43mdtype\u001B[49m\u001B[43m=\u001B[49m\u001B[43mDTYPE\u001B[49m\u001B[43m,\u001B[49m\n\u001B[32m    642\u001B[39m \u001B[43m    \u001B[49m\u001B[43maccept_sparse\u001B[49m\u001B[43m=\u001B[49m\u001B[33;43m\"\u001B[39;49m\u001B[33;43mcsr\u001B[39;49m\u001B[33;43m\"\u001B[39;49m\u001B[43m,\u001B[49m\n\u001B[32m    643\u001B[39m \u001B[43m    \u001B[49m\u001B[43mreset\u001B[49m\u001B[43m=\u001B[49m\u001B[38;5;28;43;01mFalse\u001B[39;49;00m\u001B[43m,\u001B[49m\n\u001B[32m    644\u001B[39m \u001B[43m    \u001B[49m\u001B[43mensure_all_finite\u001B[49m\u001B[43m=\u001B[49m\u001B[43mensure_all_finite\u001B[49m\u001B[43m,\u001B[49m\n\u001B[32m    645\u001B[39m \u001B[43m\u001B[49m\u001B[43m)\u001B[49m\n\u001B[32m    646\u001B[39m \u001B[38;5;28;01mif\u001B[39;00m issparse(X) \u001B[38;5;129;01mand\u001B[39;00m (X.indices.dtype != np.intc \u001B[38;5;129;01mor\u001B[39;00m X.indptr.dtype != np.intc):\n\u001B[32m    647\u001B[39m     \u001B[38;5;28;01mraise\u001B[39;00m \u001B[38;5;167;01mValueError\u001B[39;00m(\u001B[33m\"\u001B[39m\u001B[33mNo support for np.int64 index based sparse matrices\u001B[39m\u001B[33m\"\u001B[39m)\n",
      "\u001B[36mFile \u001B[39m\u001B[32m~/PycharmProjects/Data-Mining/.venv/lib/python3.11/site-packages/sklearn/utils/validation.py:2919\u001B[39m, in \u001B[36mvalidate_data\u001B[39m\u001B[34m(_estimator, X, y, reset, validate_separately, skip_check_array, **check_params)\u001B[39m\n\u001B[32m   2835\u001B[39m \u001B[38;5;28;01mdef\u001B[39;00m\u001B[38;5;250m \u001B[39m\u001B[34mvalidate_data\u001B[39m(\n\u001B[32m   2836\u001B[39m     _estimator,\n\u001B[32m   2837\u001B[39m     /,\n\u001B[32m   (...)\u001B[39m\u001B[32m   2843\u001B[39m     **check_params,\n\u001B[32m   2844\u001B[39m ):\n\u001B[32m   2845\u001B[39m \u001B[38;5;250m    \u001B[39m\u001B[33;03m\"\"\"Validate input data and set or check feature names and counts of the input.\u001B[39;00m\n\u001B[32m   2846\u001B[39m \n\u001B[32m   2847\u001B[39m \u001B[33;03m    This helper function should be used in an estimator that requires input\u001B[39;00m\n\u001B[32m   (...)\u001B[39m\u001B[32m   2917\u001B[39m \u001B[33;03m        validated.\u001B[39;00m\n\u001B[32m   2918\u001B[39m \u001B[33;03m    \"\"\"\u001B[39;00m\n\u001B[32m-> \u001B[39m\u001B[32m2919\u001B[39m     \u001B[43m_check_feature_names\u001B[49m\u001B[43m(\u001B[49m\u001B[43m_estimator\u001B[49m\u001B[43m,\u001B[49m\u001B[43m \u001B[49m\u001B[43mX\u001B[49m\u001B[43m,\u001B[49m\u001B[43m \u001B[49m\u001B[43mreset\u001B[49m\u001B[43m=\u001B[49m\u001B[43mreset\u001B[49m\u001B[43m)\u001B[49m\n\u001B[32m   2920\u001B[39m     tags = get_tags(_estimator)\n\u001B[32m   2921\u001B[39m     \u001B[38;5;28;01mif\u001B[39;00m y \u001B[38;5;129;01mis\u001B[39;00m \u001B[38;5;28;01mNone\u001B[39;00m \u001B[38;5;129;01mand\u001B[39;00m tags.target_tags.required:\n",
      "\u001B[36mFile \u001B[39m\u001B[32m~/PycharmProjects/Data-Mining/.venv/lib/python3.11/site-packages/sklearn/utils/validation.py:2777\u001B[39m, in \u001B[36m_check_feature_names\u001B[39m\u001B[34m(estimator, X, reset)\u001B[39m\n\u001B[32m   2774\u001B[39m \u001B[38;5;28;01mif\u001B[39;00m \u001B[38;5;129;01mnot\u001B[39;00m missing_names \u001B[38;5;129;01mand\u001B[39;00m \u001B[38;5;129;01mnot\u001B[39;00m unexpected_names:\n\u001B[32m   2775\u001B[39m     message += \u001B[33m\"\u001B[39m\u001B[33mFeature names must be in the same order as they were in fit.\u001B[39m\u001B[38;5;130;01m\\n\u001B[39;00m\u001B[33m\"\u001B[39m\n\u001B[32m-> \u001B[39m\u001B[32m2777\u001B[39m \u001B[38;5;28;01mraise\u001B[39;00m \u001B[38;5;167;01mValueError\u001B[39;00m(message)\n",
      "\u001B[31mValueError\u001B[39m: The feature names should match those that were passed during fit.\nFeature names unseen at fit time:\n- date_time\n"
     ]
    }
   ],
   "execution_count": 37
  }
 ],
 "metadata": {
  "kernelspec": {
   "display_name": "Python 3",
   "language": "python",
   "name": "python3"
  },
  "language_info": {
   "codemirror_mode": {
    "name": "ipython",
    "version": 3
   },
   "file_extension": ".py",
   "mimetype": "text/x-python",
   "name": "python",
   "nbconvert_exporter": "python",
   "pygments_lexer": "ipython3",
   "version": "3.12.1"
  }
 },
 "nbformat": 4,
 "nbformat_minor": 5
}
