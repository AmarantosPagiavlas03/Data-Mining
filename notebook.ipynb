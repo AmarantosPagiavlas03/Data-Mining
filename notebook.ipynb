{
 "cells": [
  {
   "cell_type": "markdown",
   "id": "e17e0e52",
   "metadata": {},
   "source": [
    "# Initialization"
   ]
  },
  {
   "cell_type": "code",
   "id": "6fe6dc27",
   "metadata": {
    "ExecuteTime": {
     "end_time": "2025-05-10T15:40:44.954293Z",
     "start_time": "2025-05-10T15:40:44.887713Z"
    }
   },
   "source": [
    "%load_ext autoreload\n",
    "%autoreload 2"
   ],
   "outputs": [],
   "execution_count": 1
  },
  {
   "cell_type": "code",
   "id": "c53a1b5d",
   "metadata": {
    "ExecuteTime": {
     "end_time": "2025-05-10T15:40:53.762134Z",
     "start_time": "2025-05-10T15:40:47.986845Z"
    }
   },
   "source": [
    "# initialization\n",
    "import pandas as pd\n",
    "import matplotlib.pyplot as plt\n",
    "import seaborn as sns\n",
    "from Dora_EDA import MyModel\n",
    "sns.set_theme(style=\"whitegrid\")\n",
    "plt.rcParams['figure.figsize'] = (10, 6) \n",
    "model = MyModel()\n",
    "model.load_data(filepath=\"training_set_VU_DM.csv\")\n",
    "model2 = MyModel()\n",
    "model2.load_data(filepath=\"test_set_VU_DM.csv\")\n"
   ],
   "outputs": [
    {
     "name": "stdout",
     "output_type": "stream",
     "text": [
      "Loading data from: training_set_VU_DM.csv using Polars\n",
      "Data loaded: (4958347, 54) (rows, cols) in 2.92 seconds.\n",
      "Loading data from: test_set_VU_DM.csv using Polars\n",
      "Data loaded: (4959183, 50) (rows, cols) in 2.57 seconds.\n"
     ]
    },
    {
     "data": {
      "text/plain": [
       "shape: (4_959_183, 50)\n",
       "┌─────────┬────────────┬─────────┬────────────┬───┬────────────┬───────────┬───────────┬───────────┐\n",
       "│ srch_id ┆ date_time  ┆ site_id ┆ visitor_lo ┆ … ┆ comp7_rate ┆ comp8_rat ┆ comp8_inv ┆ comp8_rat │\n",
       "│ ---     ┆ ---        ┆ ---     ┆ cation_cou ┆   ┆ _percent_d ┆ e         ┆ ---       ┆ e_percent │\n",
       "│ i64     ┆ str        ┆ i64     ┆ ntry_id    ┆   ┆ iff        ┆ ---       ┆ i64       ┆ _diff     │\n",
       "│         ┆            ┆         ┆ ---        ┆   ┆ ---        ┆ i64       ┆           ┆ ---       │\n",
       "│         ┆            ┆         ┆ i64        ┆   ┆ i64        ┆           ┆           ┆ i64       │\n",
       "╞═════════╪════════════╪═════════╪════════════╪═══╪════════════╪═══════════╪═══════════╪═══════════╡\n",
       "│ 1       ┆ 2013-02-02 ┆ 24      ┆ 216        ┆ … ┆ null       ┆ null      ┆ null      ┆ null      │\n",
       "│         ┆ 15:27:40   ┆         ┆            ┆   ┆            ┆           ┆           ┆           │\n",
       "│ 1       ┆ 2013-02-02 ┆ 24      ┆ 216        ┆ … ┆ null       ┆ null      ┆ null      ┆ null      │\n",
       "│         ┆ 15:27:40   ┆         ┆            ┆   ┆            ┆           ┆           ┆           │\n",
       "│ 1       ┆ 2013-02-02 ┆ 24      ┆ 216        ┆ … ┆ null       ┆ null      ┆ null      ┆ null      │\n",
       "│         ┆ 15:27:40   ┆         ┆            ┆   ┆            ┆           ┆           ┆           │\n",
       "│ 1       ┆ 2013-02-02 ┆ 24      ┆ 216        ┆ … ┆ null       ┆ null      ┆ null      ┆ null      │\n",
       "│         ┆ 15:27:40   ┆         ┆            ┆   ┆            ┆           ┆           ┆           │\n",
       "│ 1       ┆ 2013-02-02 ┆ 24      ┆ 216        ┆ … ┆ null       ┆ null      ┆ null      ┆ null      │\n",
       "│         ┆ 15:27:40   ┆         ┆            ┆   ┆            ┆           ┆           ┆           │\n",
       "│ …       ┆ …          ┆ …       ┆ …          ┆ … ┆ …          ┆ …         ┆ …         ┆ …         │\n",
       "│ 332787  ┆ 2013-05-21 ┆ 24      ┆ 216        ┆ … ┆ null       ┆ null      ┆ null      ┆ null      │\n",
       "│         ┆ 11:06:37   ┆         ┆            ┆   ┆            ┆           ┆           ┆           │\n",
       "│ 332787  ┆ 2013-05-21 ┆ 24      ┆ 216        ┆ … ┆ null       ┆ null      ┆ null      ┆ null      │\n",
       "│         ┆ 11:06:37   ┆         ┆            ┆   ┆            ┆           ┆           ┆           │\n",
       "│ 332787  ┆ 2013-05-21 ┆ 24      ┆ 216        ┆ … ┆ null       ┆ null      ┆ null      ┆ null      │\n",
       "│         ┆ 11:06:37   ┆         ┆            ┆   ┆            ┆           ┆           ┆           │\n",
       "│ 332787  ┆ 2013-05-21 ┆ 24      ┆ 216        ┆ … ┆ null       ┆ null      ┆ null      ┆ null      │\n",
       "│         ┆ 11:06:37   ┆         ┆            ┆   ┆            ┆           ┆           ┆           │\n",
       "│ 332787  ┆ 2013-05-21 ┆ 24      ┆ 216        ┆ … ┆ null       ┆ null      ┆ null      ┆ null      │\n",
       "│         ┆ 11:06:37   ┆         ┆            ┆   ┆            ┆           ┆           ┆           │\n",
       "└─────────┴────────────┴─────────┴────────────┴───┴────────────┴───────────┴───────────┴───────────┘"
      ],
      "text/html": [
       "<div><style>\n",
       ".dataframe > thead > tr,\n",
       ".dataframe > tbody > tr {\n",
       "  text-align: right;\n",
       "  white-space: pre-wrap;\n",
       "}\n",
       "</style>\n",
       "<small>shape: (4_959_183, 50)</small><table border=\"1\" class=\"dataframe\"><thead><tr><th>srch_id</th><th>date_time</th><th>site_id</th><th>visitor_location_country_id</th><th>visitor_hist_starrating</th><th>visitor_hist_adr_usd</th><th>prop_country_id</th><th>prop_id</th><th>prop_starrating</th><th>prop_review_score</th><th>prop_brand_bool</th><th>prop_location_score1</th><th>prop_location_score2</th><th>prop_log_historical_price</th><th>price_usd</th><th>promotion_flag</th><th>srch_destination_id</th><th>srch_length_of_stay</th><th>srch_booking_window</th><th>srch_adults_count</th><th>srch_children_count</th><th>srch_room_count</th><th>srch_saturday_night_bool</th><th>srch_query_affinity_score</th><th>orig_destination_distance</th><th>random_bool</th><th>comp1_rate</th><th>comp1_inv</th><th>comp1_rate_percent_diff</th><th>comp2_rate</th><th>comp2_inv</th><th>comp2_rate_percent_diff</th><th>comp3_rate</th><th>comp3_inv</th><th>comp3_rate_percent_diff</th><th>comp4_rate</th><th>comp4_inv</th><th>comp4_rate_percent_diff</th><th>comp5_rate</th><th>comp5_inv</th><th>comp5_rate_percent_diff</th><th>comp6_rate</th><th>comp6_inv</th><th>comp6_rate_percent_diff</th><th>comp7_rate</th><th>comp7_inv</th><th>comp7_rate_percent_diff</th><th>comp8_rate</th><th>comp8_inv</th><th>comp8_rate_percent_diff</th></tr><tr><td>i64</td><td>str</td><td>i64</td><td>i64</td><td>f64</td><td>f64</td><td>i64</td><td>i64</td><td>i64</td><td>f64</td><td>i64</td><td>f64</td><td>f64</td><td>f64</td><td>f64</td><td>i64</td><td>i64</td><td>i64</td><td>i64</td><td>i64</td><td>i64</td><td>i64</td><td>i64</td><td>f64</td><td>f64</td><td>i64</td><td>i64</td><td>i64</td><td>i64</td><td>i64</td><td>i64</td><td>i64</td><td>i64</td><td>i64</td><td>i64</td><td>i64</td><td>i64</td><td>i64</td><td>i64</td><td>i64</td><td>i64</td><td>i64</td><td>i64</td><td>i64</td><td>i64</td><td>i64</td><td>i64</td><td>i64</td><td>i64</td><td>i64</td></tr></thead><tbody><tr><td>1</td><td>&quot;2013-02-02 15:27:40&quot;</td><td>24</td><td>216</td><td>null</td><td>null</td><td>219</td><td>3180</td><td>3</td><td>4.5</td><td>1</td><td>2.94</td><td>0.0691</td><td>5.03</td><td>119.0</td><td>0</td><td>19222</td><td>1</td><td>10</td><td>2</td><td>0</td><td>1</td><td>0</td><td>null</td><td>null</td><td>0</td><td>null</td><td>null</td><td>null</td><td>null</td><td>null</td><td>null</td><td>null</td><td>null</td><td>null</td><td>null</td><td>null</td><td>null</td><td>null</td><td>null</td><td>null</td><td>null</td><td>null</td><td>null</td><td>null</td><td>null</td><td>null</td><td>null</td><td>null</td><td>null</td></tr><tr><td>1</td><td>&quot;2013-02-02 15:27:40&quot;</td><td>24</td><td>216</td><td>null</td><td>null</td><td>219</td><td>5543</td><td>3</td><td>4.5</td><td>1</td><td>2.64</td><td>0.0843</td><td>4.93</td><td>118.0</td><td>0</td><td>19222</td><td>1</td><td>10</td><td>2</td><td>0</td><td>1</td><td>0</td><td>null</td><td>null</td><td>0</td><td>null</td><td>null</td><td>null</td><td>0</td><td>0</td><td>null</td><td>null</td><td>null</td><td>null</td><td>null</td><td>null</td><td>null</td><td>null</td><td>null</td><td>null</td><td>null</td><td>null</td><td>null</td><td>null</td><td>null</td><td>null</td><td>null</td><td>null</td><td>null</td></tr><tr><td>1</td><td>&quot;2013-02-02 15:27:40&quot;</td><td>24</td><td>216</td><td>null</td><td>null</td><td>219</td><td>14142</td><td>2</td><td>3.5</td><td>1</td><td>2.71</td><td>0.0556</td><td>4.16</td><td>49.0</td><td>0</td><td>19222</td><td>1</td><td>10</td><td>2</td><td>0</td><td>1</td><td>0</td><td>null</td><td>null</td><td>0</td><td>null</td><td>null</td><td>null</td><td>0</td><td>0</td><td>null</td><td>null</td><td>null</td><td>null</td><td>null</td><td>null</td><td>null</td><td>1</td><td>0</td><td>10</td><td>null</td><td>null</td><td>null</td><td>null</td><td>null</td><td>null</td><td>null</td><td>null</td><td>null</td></tr><tr><td>1</td><td>&quot;2013-02-02 15:27:40&quot;</td><td>24</td><td>216</td><td>null</td><td>null</td><td>219</td><td>22393</td><td>3</td><td>4.5</td><td>1</td><td>2.4</td><td>0.0561</td><td>5.03</td><td>143.0</td><td>0</td><td>19222</td><td>1</td><td>10</td><td>2</td><td>0</td><td>1</td><td>0</td><td>null</td><td>null</td><td>0</td><td>null</td><td>null</td><td>null</td><td>0</td><td>0</td><td>null</td><td>null</td><td>null</td><td>null</td><td>null</td><td>null</td><td>null</td><td>0</td><td>0</td><td>null</td><td>null</td><td>null</td><td>null</td><td>null</td><td>null</td><td>null</td><td>null</td><td>null</td><td>null</td></tr><tr><td>1</td><td>&quot;2013-02-02 15:27:40&quot;</td><td>24</td><td>216</td><td>null</td><td>null</td><td>219</td><td>24194</td><td>3</td><td>4.5</td><td>1</td><td>2.94</td><td>0.209</td><td>4.72</td><td>79.0</td><td>0</td><td>19222</td><td>1</td><td>10</td><td>2</td><td>0</td><td>1</td><td>0</td><td>null</td><td>null</td><td>0</td><td>null</td><td>null</td><td>null</td><td>0</td><td>0</td><td>null</td><td>null</td><td>null</td><td>null</td><td>null</td><td>null</td><td>null</td><td>0</td><td>0</td><td>null</td><td>null</td><td>null</td><td>null</td><td>null</td><td>null</td><td>null</td><td>null</td><td>null</td><td>null</td></tr><tr><td>&hellip;</td><td>&hellip;</td><td>&hellip;</td><td>&hellip;</td><td>&hellip;</td><td>&hellip;</td><td>&hellip;</td><td>&hellip;</td><td>&hellip;</td><td>&hellip;</td><td>&hellip;</td><td>&hellip;</td><td>&hellip;</td><td>&hellip;</td><td>&hellip;</td><td>&hellip;</td><td>&hellip;</td><td>&hellip;</td><td>&hellip;</td><td>&hellip;</td><td>&hellip;</td><td>&hellip;</td><td>&hellip;</td><td>&hellip;</td><td>&hellip;</td><td>&hellip;</td><td>&hellip;</td><td>&hellip;</td><td>&hellip;</td><td>&hellip;</td><td>&hellip;</td><td>&hellip;</td><td>&hellip;</td><td>&hellip;</td><td>&hellip;</td><td>&hellip;</td><td>&hellip;</td><td>&hellip;</td><td>&hellip;</td><td>&hellip;</td><td>&hellip;</td><td>&hellip;</td><td>&hellip;</td><td>&hellip;</td><td>&hellip;</td><td>&hellip;</td><td>&hellip;</td><td>&hellip;</td><td>&hellip;</td><td>&hellip;</td></tr><tr><td>332787</td><td>&quot;2013-05-21 11:06:37&quot;</td><td>24</td><td>216</td><td>null</td><td>null</td><td>117</td><td>32019</td><td>4</td><td>3.5</td><td>0</td><td>2.48</td><td>0.0551</td><td>4.53</td><td>66.07</td><td>0</td><td>19246</td><td>2</td><td>7</td><td>1</td><td>0</td><td>1</td><td>0</td><td>null</td><td>null</td><td>0</td><td>null</td><td>null</td><td>null</td><td>1</td><td>0</td><td>22</td><td>1</td><td>0</td><td>127</td><td>-1</td><td>0</td><td>27</td><td>1</td><td>0</td><td>22</td><td>null</td><td>null</td><td>null</td><td>null</td><td>null</td><td>null</td><td>null</td><td>null</td><td>null</td></tr><tr><td>332787</td><td>&quot;2013-05-21 11:06:37&quot;</td><td>24</td><td>216</td><td>null</td><td>null</td><td>117</td><td>33959</td><td>4</td><td>3.0</td><td>1</td><td>2.2</td><td>0.3344</td><td>4.39</td><td>67.1</td><td>0</td><td>19246</td><td>2</td><td>7</td><td>1</td><td>0</td><td>1</td><td>0</td><td>null</td><td>null</td><td>0</td><td>null</td><td>null</td><td>null</td><td>0</td><td>0</td><td>null</td><td>0</td><td>0</td><td>null</td><td>0</td><td>0</td><td>16</td><td>1</td><td>0</td><td>22</td><td>null</td><td>null</td><td>null</td><td>null</td><td>null</td><td>null</td><td>null</td><td>null</td><td>null</td></tr><tr><td>332787</td><td>&quot;2013-05-21 11:06:37&quot;</td><td>24</td><td>216</td><td>null</td><td>null</td><td>117</td><td>35240</td><td>4</td><td>0.0</td><td>0</td><td>1.79</td><td>null</td><td>4.64</td><td>73.91</td><td>0</td><td>19246</td><td>2</td><td>7</td><td>1</td><td>0</td><td>1</td><td>0</td><td>null</td><td>null</td><td>0</td><td>null</td><td>null</td><td>null</td><td>1</td><td>0</td><td>55</td><td>0</td><td>0</td><td>null</td><td>0</td><td>0</td><td>16</td><td>0</td><td>0</td><td>3</td><td>null</td><td>null</td><td>null</td><td>null</td><td>null</td><td>null</td><td>null</td><td>null</td><td>null</td></tr><tr><td>332787</td><td>&quot;2013-05-21 11:06:37&quot;</td><td>24</td><td>216</td><td>null</td><td>null</td><td>117</td><td>94437</td><td>4</td><td>0.0</td><td>0</td><td>2.94</td><td>0.0928</td><td>4.64</td><td>66.07</td><td>0</td><td>19246</td><td>2</td><td>7</td><td>1</td><td>0</td><td>1</td><td>0</td><td>null</td><td>null</td><td>0</td><td>null</td><td>null</td><td>null</td><td>1</td><td>0</td><td>43</td><td>1</td><td>0</td><td>43</td><td>-1</td><td>0</td><td>12</td><td>-1</td><td>0</td><td>12</td><td>null</td><td>null</td><td>null</td><td>null</td><td>null</td><td>null</td><td>null</td><td>null</td><td>null</td></tr><tr><td>332787</td><td>&quot;2013-05-21 11:06:37&quot;</td><td>24</td><td>216</td><td>null</td><td>null</td><td>117</td><td>99509</td><td>4</td><td>4.5</td><td>1</td><td>2.08</td><td>0.0344</td><td>4.64</td><td>82.06</td><td>0</td><td>19246</td><td>2</td><td>7</td><td>1</td><td>0</td><td>1</td><td>0</td><td>null</td><td>null</td><td>0</td><td>null</td><td>null</td><td>null</td><td>0</td><td>0</td><td>null</td><td>0</td><td>0</td><td>null</td><td>0</td><td>0</td><td>16</td><td>0</td><td>0</td><td>null</td><td>null</td><td>null</td><td>null</td><td>null</td><td>null</td><td>null</td><td>null</td><td>null</td><td>null</td></tr></tbody></table></div>"
      ]
     },
     "execution_count": 2,
     "metadata": {},
     "output_type": "execute_result"
    }
   ],
   "execution_count": 2
  },
  {
   "cell_type": "markdown",
   "id": "7de8626e",
   "metadata": {},
   "source": [
    "# Exploratory Data Analysis"
   ]
  },
  {
   "cell_type": "code",
   "id": "89366dfc",
   "metadata": {
    "ExecuteTime": {
     "end_time": "2025-05-10T15:40:57.399360Z",
     "start_time": "2025-05-10T15:40:56.374473Z"
    }
   },
   "source": [
    "\n",
    "#Finds and removes columns that have more than 80% missing values\n",
    "high_missing_cols = model.get_columns_with_high_missing(threshold=0.8)\n",
    "\n",
    "model.drop_columns(high_missing_cols)\n",
    "model2.drop_columns(high_missing_cols)\n",
    "model.drop_columns(['date_time'])\n",
    "model2.drop_columns(['date_time'])\n",
    "\n",
    "#Prints the new dataset after dropping columns\n",
    "print(\"New dataframe after dropping high-missing columns:\")\n",
    "print(model.dataframe)\n",
    "\n",
    "# Prints out the summary of numericals columns such as range mean...\n",
    "model.summarize_numerical_columns()\n",
    "model.get_non_numerical_columns()\n",
    "\n",
    "#Prints out columns that have missing values still\n",
    "model.get_columns_with_missing_values()\n",
    " "
   ],
   "outputs": [
    {
     "name": "stdout",
     "output_type": "stream",
     "text": [
      "Columns with more than 80% missing values: ['visitor_hist_starrating', 'visitor_hist_adr_usd', 'srch_query_affinity_score', 'comp1_rate', 'comp1_inv', 'comp1_rate_percent_diff', 'comp2_rate_percent_diff', 'comp3_rate_percent_diff', 'comp4_rate', 'comp4_inv', 'comp4_rate_percent_diff', 'comp5_rate_percent_diff', 'comp6_rate', 'comp6_inv', 'comp6_rate_percent_diff', 'comp7_rate', 'comp7_inv', 'comp7_rate_percent_diff', 'comp8_rate_percent_diff', 'gross_bookings_usd']\n",
      "Dropping columns: ['visitor_hist_starrating', 'visitor_hist_adr_usd', 'srch_query_affinity_score', 'comp1_rate', 'comp1_inv', 'comp1_rate_percent_diff', 'comp2_rate_percent_diff', 'comp3_rate_percent_diff', 'comp4_rate', 'comp4_inv', 'comp4_rate_percent_diff', 'comp5_rate_percent_diff', 'comp6_rate', 'comp6_inv', 'comp6_rate_percent_diff', 'comp7_rate', 'comp7_inv', 'comp7_rate_percent_diff', 'comp8_rate_percent_diff', 'gross_bookings_usd']\n",
      "Remaining columns: ['srch_id', 'date_time', 'site_id', 'visitor_location_country_id', 'prop_country_id', 'prop_id', 'prop_starrating', 'prop_review_score', 'prop_brand_bool', 'prop_location_score1', 'prop_location_score2', 'prop_log_historical_price', 'position', 'price_usd', 'promotion_flag', 'srch_destination_id', 'srch_length_of_stay', 'srch_booking_window', 'srch_adults_count', 'srch_children_count', 'srch_room_count', 'srch_saturday_night_bool', 'orig_destination_distance', 'random_bool', 'comp2_rate', 'comp2_inv', 'comp3_rate', 'comp3_inv', 'comp5_rate', 'comp5_inv', 'comp8_rate', 'comp8_inv', 'click_bool', 'booking_bool']\n",
      "Dataframe shape after dropping columns: (4958347, 34)\n",
      "Dropping columns: ['visitor_hist_starrating', 'visitor_hist_adr_usd', 'srch_query_affinity_score', 'comp1_rate', 'comp1_inv', 'comp1_rate_percent_diff', 'comp2_rate_percent_diff', 'comp3_rate_percent_diff', 'comp4_rate', 'comp4_inv', 'comp4_rate_percent_diff', 'comp5_rate_percent_diff', 'comp6_rate', 'comp6_inv', 'comp6_rate_percent_diff', 'comp7_rate', 'comp7_inv', 'comp7_rate_percent_diff', 'comp8_rate_percent_diff', 'gross_bookings_usd']\n",
      "Warning: Columns not found and ignored: ['gross_bookings_usd']\n",
      "Remaining columns: ['srch_id', 'date_time', 'site_id', 'visitor_location_country_id', 'prop_country_id', 'prop_id', 'prop_starrating', 'prop_review_score', 'prop_brand_bool', 'prop_location_score1', 'prop_location_score2', 'prop_log_historical_price', 'price_usd', 'promotion_flag', 'srch_destination_id', 'srch_length_of_stay', 'srch_booking_window', 'srch_adults_count', 'srch_children_count', 'srch_room_count', 'srch_saturday_night_bool', 'orig_destination_distance', 'random_bool', 'comp2_rate', 'comp2_inv', 'comp3_rate', 'comp3_inv', 'comp5_rate', 'comp5_inv', 'comp8_rate', 'comp8_inv']\n",
      "Dataframe shape after dropping columns: (4959183, 31)\n",
      "Dropping columns: ['date_time']\n",
      "Remaining columns: ['srch_id', 'site_id', 'visitor_location_country_id', 'prop_country_id', 'prop_id', 'prop_starrating', 'prop_review_score', 'prop_brand_bool', 'prop_location_score1', 'prop_location_score2', 'prop_log_historical_price', 'position', 'price_usd', 'promotion_flag', 'srch_destination_id', 'srch_length_of_stay', 'srch_booking_window', 'srch_adults_count', 'srch_children_count', 'srch_room_count', 'srch_saturday_night_bool', 'orig_destination_distance', 'random_bool', 'comp2_rate', 'comp2_inv', 'comp3_rate', 'comp3_inv', 'comp5_rate', 'comp5_inv', 'comp8_rate', 'comp8_inv', 'click_bool', 'booking_bool']\n",
      "Dataframe shape after dropping columns: (4958347, 33)\n",
      "Dropping columns: ['date_time']\n",
      "Remaining columns: ['srch_id', 'site_id', 'visitor_location_country_id', 'prop_country_id', 'prop_id', 'prop_starrating', 'prop_review_score', 'prop_brand_bool', 'prop_location_score1', 'prop_location_score2', 'prop_log_historical_price', 'price_usd', 'promotion_flag', 'srch_destination_id', 'srch_length_of_stay', 'srch_booking_window', 'srch_adults_count', 'srch_children_count', 'srch_room_count', 'srch_saturday_night_bool', 'orig_destination_distance', 'random_bool', 'comp2_rate', 'comp2_inv', 'comp3_rate', 'comp3_inv', 'comp5_rate', 'comp5_inv', 'comp8_rate', 'comp8_inv']\n",
      "Dataframe shape after dropping columns: (4959183, 30)\n",
      "New dataframe after dropping high-missing columns:\n",
      "shape: (4_958_347, 33)\n",
      "┌─────────┬─────────┬────────────┬────────────┬───┬────────────┬───────────┬───────────┬───────────┐\n",
      "│ srch_id ┆ site_id ┆ visitor_lo ┆ prop_count ┆ … ┆ comp8_rate ┆ comp8_inv ┆ click_boo ┆ booking_b │\n",
      "│ ---     ┆ ---     ┆ cation_cou ┆ ry_id      ┆   ┆ ---        ┆ ---       ┆ l         ┆ ool       │\n",
      "│ i64     ┆ i64     ┆ ntry_id    ┆ ---        ┆   ┆ i64        ┆ i64       ┆ ---       ┆ ---       │\n",
      "│         ┆         ┆ ---        ┆ i64        ┆   ┆            ┆           ┆ i64       ┆ i64       │\n",
      "│         ┆         ┆ i64        ┆            ┆   ┆            ┆           ┆           ┆           │\n",
      "╞═════════╪═════════╪════════════╪════════════╪═══╪════════════╪═══════════╪═══════════╪═══════════╡\n",
      "│ 1       ┆ 12      ┆ 187        ┆ 219        ┆ … ┆ 0          ┆ 0         ┆ 0         ┆ 0         │\n",
      "│ 1       ┆ 12      ┆ 187        ┆ 219        ┆ … ┆ 0          ┆ 0         ┆ 0         ┆ 0         │\n",
      "│ 1       ┆ 12      ┆ 187        ┆ 219        ┆ … ┆ 0          ┆ 0         ┆ 0         ┆ 0         │\n",
      "│ 1       ┆ 12      ┆ 187        ┆ 219        ┆ … ┆ -1         ┆ 0         ┆ 0         ┆ 0         │\n",
      "│ 1       ┆ 12      ┆ 187        ┆ 219        ┆ … ┆ 0          ┆ 0         ┆ 0         ┆ 0         │\n",
      "│ …       ┆ …       ┆ …          ┆ …          ┆ … ┆ …          ┆ …         ┆ …         ┆ …         │\n",
      "│ 332785  ┆ 5       ┆ 219        ┆ 219        ┆ … ┆ null       ┆ null      ┆ 0         ┆ 0         │\n",
      "│ 332785  ┆ 5       ┆ 219        ┆ 219        ┆ … ┆ null       ┆ null      ┆ 0         ┆ 0         │\n",
      "│ 332785  ┆ 5       ┆ 219        ┆ 219        ┆ … ┆ null       ┆ null      ┆ 0         ┆ 0         │\n",
      "│ 332785  ┆ 5       ┆ 219        ┆ 219        ┆ … ┆ null       ┆ null      ┆ 1         ┆ 1         │\n",
      "│ 332785  ┆ 5       ┆ 219        ┆ 219        ┆ … ┆ null       ┆ null      ┆ 0         ┆ 0         │\n",
      "└─────────┴─────────┴────────────┴────────────┴───┴────────────┴───────────┴───────────┴───────────┘\n",
      "\n",
      "Numerical Column Summary:\n",
      "Column: srch_id\n",
      "  Range: 1–332785\n",
      "  Median: 166507.0\n",
      "  Mean: 166366.5610960669\n",
      "Column: site_id\n",
      "  Range: 1–34\n",
      "  Median: 5.0\n",
      "  Mean: 9.953133372876081\n",
      "Column: visitor_location_country_id\n",
      "  Range: 1–231\n",
      "  Median: 219.0\n",
      "  Mean: 175.3404531792551\n",
      "Column: prop_country_id\n",
      "  Range: 1–230\n",
      "  Median: 219.0\n",
      "  Mean: 173.97389674421737\n",
      "Column: prop_id\n",
      "  Range: 1–140821\n",
      "  Median: 69638.0\n",
      "  Mean: 70079.17949631198\n",
      "Column: prop_starrating\n",
      "  Range: 0–5\n",
      "  Median: 3.0\n",
      "  Mean: 3.1805254856104264\n",
      "Column: prop_review_score\n",
      "  Range: 0.0–5.0\n",
      "  Median: 4.0\n",
      "  Mean: 3.7777767566562033\n",
      "Column: prop_brand_bool\n",
      "  Range: 0–1\n",
      "  Median: 1.0\n",
      "  Mean: 0.6346994270469574\n",
      "Column: prop_location_score1\n",
      "  Range: 0.0–6.98\n",
      "  Median: 2.77\n",
      "  Mean: 2.8725885985793242\n",
      "Column: prop_location_score2\n",
      "  Range: 0.0–1.0\n",
      "  Median: 0.069\n",
      "  Mean: 0.13038516788654803\n",
      "Column: prop_log_historical_price\n",
      "  Range: 0.0–6.21\n",
      "  Median: 4.91\n",
      "  Mean: 4.3179133166759\n",
      "Column: position\n",
      "  Range: 1–40\n",
      "  Median: 16.0\n",
      "  Mean: 16.85623636264263\n",
      "Column: price_usd\n",
      "  Range: 0.0–19726328.0\n",
      "  Median: 122.0\n",
      "  Mean: 254.20958985524786\n",
      "Column: promotion_flag\n",
      "  Range: 0–1\n",
      "  Median: 0.0\n",
      "  Mean: 0.215619842661274\n",
      "Column: srch_destination_id\n",
      "  Range: 2–28416\n",
      "  Median: 13541.0\n",
      "  Mean: 14042.630392548162\n",
      "Column: srch_length_of_stay\n",
      "  Range: 1–57\n",
      "  Median: 2.0\n",
      "  Mean: 2.385427441847051\n",
      "Column: srch_booking_window\n",
      "  Range: 0–492\n",
      "  Median: 17.0\n",
      "  Mean: 37.47416507961222\n",
      "Column: srch_adults_count\n",
      "  Range: 1–9\n",
      "  Median: 2.0\n",
      "  Mean: 1.9726372518906\n",
      "Column: srch_children_count\n",
      "  Range: 0–9\n",
      "  Median: 0.0\n",
      "  Mean: 0.3504918070477923\n",
      "Column: srch_room_count\n",
      "  Range: 1–8\n",
      "  Median: 1.0\n",
      "  Mean: 1.1105249390573109\n",
      "Column: srch_saturday_night_bool\n",
      "  Range: 0–1\n",
      "  Median: 1.0\n",
      "  Mean: 0.5022127333968357\n",
      "Column: orig_destination_distance\n",
      "  Range: 0.01–11666.64\n",
      "  Median: 386.6\n",
      "  Mean: 1301.2344059971977\n",
      "Column: random_bool\n",
      "  Range: 0–1\n",
      "  Median: 0.0\n",
      "  Mean: 0.29590042810638306\n",
      "Column: comp2_rate\n",
      "  Range: -1–1\n",
      "  Median: 0.0\n",
      "  Mean: 0.04418987371781701\n",
      "Column: comp2_inv\n",
      "  Range: -1–1\n",
      "  Median: 0.0\n",
      "  Mean: 0.03931005896438431\n",
      "Column: comp3_rate\n",
      "  Range: -1–1\n",
      "  Median: 0.0\n",
      "  Mean: 0.017290104595747344\n",
      "Column: comp3_inv\n",
      "  Range: -1–1\n",
      "  Median: 0.0\n",
      "  Mean: 0.057768974978649176\n",
      "Column: comp5_rate\n",
      "  Range: -1–1\n",
      "  Median: 0.0\n",
      "  Mean: 0.022676211419055216\n",
      "Column: comp5_inv\n",
      "  Range: -1–1\n",
      "  Median: 0.0\n",
      "  Mean: 0.051428801450835164\n",
      "Column: comp8_rate\n",
      "  Range: -1–1\n",
      "  Median: 0.0\n",
      "  Mean: -0.06089935898706809\n",
      "Column: comp8_inv\n",
      "  Range: -1–1\n",
      "  Median: 0.0\n",
      "  Mean: 0.00996275225748087\n",
      "Column: click_bool\n",
      "  Range: 0–1\n",
      "  Median: 0.0\n",
      "  Mean: 0.04474858254172207\n",
      "Column: booking_bool\n",
      "  Range: 0–1\n",
      "  Median: 0.0\n",
      "  Mean: 0.027910511305481445\n",
      "Non-numerical columns: []\n",
      "Columns with missing values:\n",
      "  prop_review_score: 7364 missing\n",
      "  prop_location_score2: 1090348 missing\n",
      "  orig_destination_distance: 1607782 missing\n",
      "  comp2_rate: 2933675 missing\n",
      "  comp2_inv: 2828078 missing\n",
      "  comp3_rate: 3424059 missing\n",
      "  comp3_inv: 3307357 missing\n",
      "  comp5_rate: 2735974 missing\n",
      "  comp5_inv: 2598327 missing\n",
      "  comp8_rate: 3041693 missing\n",
      "  comp8_inv: 2970844 missing\n"
     ]
    },
    {
     "data": {
      "text/plain": [
       "['prop_review_score',\n",
       " 'prop_location_score2',\n",
       " 'orig_destination_distance',\n",
       " 'comp2_rate',\n",
       " 'comp2_inv',\n",
       " 'comp3_rate',\n",
       " 'comp3_inv',\n",
       " 'comp5_rate',\n",
       " 'comp5_inv',\n",
       " 'comp8_rate',\n",
       " 'comp8_inv']"
      ]
     },
     "execution_count": 3,
     "metadata": {},
     "output_type": "execute_result"
    }
   ],
   "execution_count": 3
  },
  {
   "cell_type": "markdown",
   "id": "a45f63dc",
   "metadata": {},
   "source": [
    "# Feature Engineering"
   ]
  },
  {
   "cell_type": "code",
   "id": "d2e7a357",
   "metadata": {
    "ExecuteTime": {
     "end_time": "2025-05-10T15:41:24.499913Z",
     "start_time": "2025-05-10T15:41:22.047039Z"
    }
   },
   "source": [
    "from Dora_EDA import FeatureEngineer\n",
    "\n",
    "# After your cleaning steps\n",
    "feature_engineer = FeatureEngineer(model.dataframe)\n",
    "df_imputed = feature_engineer.transform()\n",
    "df_imputed = feature_engineer.add_interaction_target()\n",
    "df_imputed = feature_engineer.add_avg_guest_count()\n",
    "\n",
    "\n",
    "\n",
    "feature_engineer2 = FeatureEngineer(model2.dataframe)\n",
    "df_imputed_test = feature_engineer2.transform()\n",
    "df_imputed_test = feature_engineer2.add_interaction_target()\n",
    "df_imputed_test = feature_engineer2.add_avg_guest_count()\n",
    "\n",
    "# Set back to the model if needed\n",
    "model.dataframe = df_imputed\n",
    "model2.dataframe = df_imputed_test\n",
    "\n",
    "# Final check\n",
    "print(\"✅ Columns with missing values AFTER imputation:\")\n",
    "model.get_columns_with_missing_values()\n",
    "\n",
    "print(\"✅ Columns with missing values AFTER imputation:\")\n",
    "model2.get_columns_with_missing_values()\n",
    "\n",
    "\n"
   ],
   "outputs": [
    {
     "name": "stdout",
     "output_type": "stream",
     "text": [
      "\n",
      "=== FeatureEngineering (Auto-Imputation): Start ===\n",
      "Found 11 columns with missing values: ['prop_review_score', 'prop_location_score2', 'orig_destination_distance', 'comp2_rate', 'comp2_inv', 'comp3_rate', 'comp3_inv', 'comp5_rate', 'comp5_inv', 'comp8_rate', 'comp8_inv']\n",
      "Imputed prop_review_score (continuous numeric) with median: 4.0\n",
      "Imputed prop_location_score2 (continuous numeric) with median: 0.069\n",
      "Imputed orig_destination_distance (continuous numeric) with median: 386.6\n",
      "Imputed comp2_rate (binary/categorical numeric) with mode: 0\n",
      "Imputed comp2_inv (binary/categorical numeric) with mode: 0\n",
      "Imputed comp3_rate (binary/categorical numeric) with mode: 0\n",
      "Imputed comp3_inv (binary/categorical numeric) with mode: 0\n",
      "Imputed comp5_rate (binary/categorical numeric) with mode: 0\n",
      "Imputed comp5_inv (binary/categorical numeric) with mode: 0\n",
      "Imputed comp8_rate (binary/categorical numeric) with mode: 0\n",
      "Imputed comp8_inv (binary/categorical numeric) with mode: 0\n",
      "\n",
      "=== FeatureEngineering: Complete ===\n",
      "Binary/categorical numeric columns imputed: ['comp2_rate', 'comp2_inv', 'comp3_rate', 'comp3_inv', 'comp5_rate', 'comp5_inv', 'comp8_rate', 'comp8_inv']\n",
      "Continuous numeric columns imputed: ['prop_review_score', 'prop_location_score2', 'orig_destination_distance']\n",
      "\n",
      "=== FeatureEngineering (Target Engineering): Start ===\n",
      "✅ Adding interaction_target column (combining booking_bool and click_bool)...\n",
      "✅ interaction_target added!\n",
      "\n",
      "=== FeatureEngineering (Auto-Imputation): Start ===\n",
      "Found 11 columns with missing values: ['prop_review_score', 'prop_location_score2', 'orig_destination_distance', 'comp2_rate', 'comp2_inv', 'comp3_rate', 'comp3_inv', 'comp5_rate', 'comp5_inv', 'comp8_rate', 'comp8_inv']\n",
      "Imputed prop_review_score (continuous numeric) with median: 4.0\n",
      "Imputed prop_location_score2 (continuous numeric) with median: 0.0692\n",
      "Imputed orig_destination_distance (continuous numeric) with median: 387.85\n",
      "Imputed comp2_rate (binary/categorical numeric) with mode: 0\n",
      "Imputed comp2_inv (binary/categorical numeric) with mode: 0\n",
      "Imputed comp3_rate (binary/categorical numeric) with mode: 0\n",
      "Imputed comp3_inv (binary/categorical numeric) with mode: 0\n",
      "Imputed comp5_rate (binary/categorical numeric) with mode: 0\n",
      "Imputed comp5_inv (binary/categorical numeric) with mode: 0\n",
      "Imputed comp8_rate (binary/categorical numeric) with mode: 0\n",
      "Imputed comp8_inv (binary/categorical numeric) with mode: 0\n",
      "\n",
      "=== FeatureEngineering: Complete ===\n",
      "Binary/categorical numeric columns imputed: ['comp2_rate', 'comp2_inv', 'comp3_rate', 'comp3_inv', 'comp5_rate', 'comp5_inv', 'comp8_rate', 'comp8_inv']\n",
      "Continuous numeric columns imputed: ['prop_review_score', 'prop_location_score2', 'orig_destination_distance']\n",
      "\n",
      "=== FeatureEngineering (Target Engineering): Start ===\n",
      "⚠️ Skipping target engineering: booking_bool or click_bool not found.\n",
      "✅ Columns with missing values AFTER imputation:\n",
      "No columns have missing values.\n",
      "✅ Columns with missing values AFTER imputation:\n",
      "No columns have missing values.\n"
     ]
    },
    {
     "data": {
      "text/plain": [
       "[]"
      ]
     },
     "execution_count": 5,
     "metadata": {},
     "output_type": "execute_result"
    }
   ],
   "execution_count": 5
  },
  {
   "cell_type": "code",
   "id": "5f3aa679f6434b65",
   "metadata": {
    "ExecuteTime": {
     "end_time": "2025-05-10T15:41:37.310716Z",
     "start_time": "2025-05-10T15:41:37.277389Z"
    }
   },
   "source": [
    "train_cols = set(model.dataframe.columns)\n",
    "test_cols = set(model2.dataframe.columns)\n",
    "\n",
    "# 1️⃣ Extra columns in train (but not in test) -- keep target though\n",
    "extra_in_train = train_cols - test_cols - {\"interaction_target\"}  # keep your target columns\n",
    "print(f\"Extra columns in train (dropping these): {extra_in_train}\")\n",
    "model.dataframe = model.dataframe.drop(list(extra_in_train))"
   ],
   "outputs": [
    {
     "name": "stdout",
     "output_type": "stream",
     "text": [
      "Extra columns in train (dropping these): {'position', 'booking_bool', 'click_bool'}\n"
     ]
    }
   ],
   "execution_count": 6
  },
  {
   "cell_type": "markdown",
   "id": "475bdc5c",
   "metadata": {},
   "source": [
    "# Modelling"
   ]
  },
  {
   "cell_type": "code",
   "id": "7a3554d9",
   "metadata": {
    "ExecuteTime": {
     "end_time": "2025-05-10T15:42:10.919649Z",
     "start_time": "2025-05-10T15:41:41.189718Z"
    }
   },
   "source": [
    "import polars as pl\n",
    "import lightgbm as lgb\n",
    "train_df = model.dataframe.to_pandas()\n",
    "test_df = model2.dataframe.to_pandas()\n",
    "\n",
    "# 5️⃣ Feature selection: drop target + ID columns\n",
    "features = [col for col in train_df.columns if col not in ['srch_id', 'prop_id', 'interaction_target']]\n",
    "\n",
    "# 6️⃣ Prepare training data\n",
    "X_train = train_df[features]\n",
    "y_train = train_df['interaction_target']\n",
    "\n",
    "# LambdaMART requires group info: count how many hotels per srch_id\n",
    "group_train = train_df.groupby('srch_id').size().to_list()\n",
    "\n",
    "# 7️⃣ Prepare test data\n",
    "X_test = test_df[features]\n",
    "\n",
    "# 8️⃣ Set up LambdaMART parameters\n",
    "params = {\n",
    "    'objective': 'lambdarank',\n",
    "    'metric': 'ndcg',\n",
    "    'ndcg_eval_at': [5],\n",
    "    'learning_rate': 0.1,\n",
    "    'num_leaves': 31,\n",
    "    'min_data_in_leaf': 30,\n",
    "    'verbose': -1,\n",
    "}\n",
    "\n",
    "# 9️⃣ Train LambdaMART\n",
    "lgb_train = lgb.Dataset(X_train, y_train, group=group_train)\n",
    "print(\"🚀 Training LambdaMART...\")\n",
    "ranker = lgb.train(params, lgb_train, num_boost_round=100)\n",
    "print(\"✅ Training complete!\")\n",
    "\n",
    "# 🔟 Predict scores on the test set\n",
    "print(\"🔮 Predicting on test set...\")\n",
    "test_df['score'] = ranker.predict(X_test)\n",
    "\n",
    "# 11️⃣ Format and export submission\n",
    "submission = (\n",
    "    test_df[['srch_id', 'prop_id', 'score']]\n",
    "    .sort_values(['srch_id', 'score'], ascending=[True, False])\n",
    "    .loc[:, ['srch_id', 'prop_id']]\n",
    "    .rename(columns={'srch_id': 'srch_id', 'prop_id': 'prop_id'})\n",
    ")\n",
    "\n",
    "submission.to_csv('VU-DM-2025GROUP-114.csv', index=False)\n",
    "print(\"✅ Submission saved as 'VU-DM-2025GROUP-114.csv' 🚀\")"
   ],
   "outputs": [
    {
     "name": "stdout",
     "output_type": "stream",
     "text": [
      "🚀 Training LambdaMART...\n",
      "✅ Training complete!\n",
      "🔮 Predicting on test set...\n",
      "✅ Submission saved as 'VU-DM-2025GROUP-114.csv' 🚀\n"
     ]
    }
   ],
   "execution_count": 7
  }
 ],
 "metadata": {
  "kernelspec": {
   "display_name": "Python 3",
   "language": "python",
   "name": "python3"
  },
  "language_info": {
   "codemirror_mode": {
    "name": "ipython",
    "version": 3
   },
   "file_extension": ".py",
   "mimetype": "text/x-python",
   "name": "python",
   "nbconvert_exporter": "python",
   "pygments_lexer": "ipython3",
   "version": "3.12.1"
  }
 },
 "nbformat": 4,
 "nbformat_minor": 5
}
