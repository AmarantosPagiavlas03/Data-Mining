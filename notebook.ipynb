{
 "cells": [
  {
   "cell_type": "markdown",
   "id": "e17e0e52",
   "metadata": {},
   "source": [
    "# Initialization"
   ]
  },
  {
   "cell_type": "code",
   "id": "6fe6dc27",
   "metadata": {
    "ExecuteTime": {
     "end_time": "2025-05-10T15:32:53.809328Z",
     "start_time": "2025-05-10T15:32:53.722059Z"
    }
   },
   "source": [
    "%load_ext autoreload\n",
    "%autoreload 2"
   ],
   "outputs": [],
   "execution_count": 1
  },
  {
   "cell_type": "code",
   "id": "c53a1b5d",
   "metadata": {
    "ExecuteTime": {
     "end_time": "2025-05-10T15:33:11.962479Z",
     "start_time": "2025-05-10T15:33:05.795653Z"
    }
   },
   "source": [
    "# initialization\n",
    "import pandas as pd\n",
    "import matplotlib.pyplot as plt\n",
    "import seaborn as sns\n",
    "from Dora_EDA import MyModel\n",
    "sns.set_theme(style=\"whitegrid\")\n",
    "plt.rcParams['figure.figsize'] = (10, 6) \n",
    "model = MyModel()\n",
    "model.load_data(filepath=\"training_set_VU_DM.csv\")\n",
    "model2 = MyModel()\n",
    "model2.load_data(filepath=\"test_set_VU_DM.csv\")\n"
   ],
   "outputs": [
    {
     "name": "stdout",
     "output_type": "stream",
     "text": [
      "Loading data from: training_set_VU_DM.csv using Polars\n",
      "Data loaded: (4958347, 54) (rows, cols) in 2.86 seconds.\n",
      "Loading data from: test_set_VU_DM.csv using Polars\n",
      "Data loaded: (4959183, 50) (rows, cols) in 2.64 seconds.\n"
     ]
    },
    {
     "data": {
      "text/plain": [
       "shape: (4_959_183, 50)\n",
       "┌─────────┬────────────┬─────────┬────────────┬───┬────────────┬───────────┬───────────┬───────────┐\n",
       "│ srch_id ┆ date_time  ┆ site_id ┆ visitor_lo ┆ … ┆ comp7_rate ┆ comp8_rat ┆ comp8_inv ┆ comp8_rat │\n",
       "│ ---     ┆ ---        ┆ ---     ┆ cation_cou ┆   ┆ _percent_d ┆ e         ┆ ---       ┆ e_percent │\n",
       "│ i64     ┆ str        ┆ i64     ┆ ntry_id    ┆   ┆ iff        ┆ ---       ┆ i64       ┆ _diff     │\n",
       "│         ┆            ┆         ┆ ---        ┆   ┆ ---        ┆ i64       ┆           ┆ ---       │\n",
       "│         ┆            ┆         ┆ i64        ┆   ┆ i64        ┆           ┆           ┆ i64       │\n",
       "╞═════════╪════════════╪═════════╪════════════╪═══╪════════════╪═══════════╪═══════════╪═══════════╡\n",
       "│ 1       ┆ 2013-02-02 ┆ 24      ┆ 216        ┆ … ┆ null       ┆ null      ┆ null      ┆ null      │\n",
       "│         ┆ 15:27:40   ┆         ┆            ┆   ┆            ┆           ┆           ┆           │\n",
       "│ 1       ┆ 2013-02-02 ┆ 24      ┆ 216        ┆ … ┆ null       ┆ null      ┆ null      ┆ null      │\n",
       "│         ┆ 15:27:40   ┆         ┆            ┆   ┆            ┆           ┆           ┆           │\n",
       "│ 1       ┆ 2013-02-02 ┆ 24      ┆ 216        ┆ … ┆ null       ┆ null      ┆ null      ┆ null      │\n",
       "│         ┆ 15:27:40   ┆         ┆            ┆   ┆            ┆           ┆           ┆           │\n",
       "│ 1       ┆ 2013-02-02 ┆ 24      ┆ 216        ┆ … ┆ null       ┆ null      ┆ null      ┆ null      │\n",
       "│         ┆ 15:27:40   ┆         ┆            ┆   ┆            ┆           ┆           ┆           │\n",
       "│ 1       ┆ 2013-02-02 ┆ 24      ┆ 216        ┆ … ┆ null       ┆ null      ┆ null      ┆ null      │\n",
       "│         ┆ 15:27:40   ┆         ┆            ┆   ┆            ┆           ┆           ┆           │\n",
       "│ …       ┆ …          ┆ …       ┆ …          ┆ … ┆ …          ┆ …         ┆ …         ┆ …         │\n",
       "│ 332787  ┆ 2013-05-21 ┆ 24      ┆ 216        ┆ … ┆ null       ┆ null      ┆ null      ┆ null      │\n",
       "│         ┆ 11:06:37   ┆         ┆            ┆   ┆            ┆           ┆           ┆           │\n",
       "│ 332787  ┆ 2013-05-21 ┆ 24      ┆ 216        ┆ … ┆ null       ┆ null      ┆ null      ┆ null      │\n",
       "│         ┆ 11:06:37   ┆         ┆            ┆   ┆            ┆           ┆           ┆           │\n",
       "│ 332787  ┆ 2013-05-21 ┆ 24      ┆ 216        ┆ … ┆ null       ┆ null      ┆ null      ┆ null      │\n",
       "│         ┆ 11:06:37   ┆         ┆            ┆   ┆            ┆           ┆           ┆           │\n",
       "│ 332787  ┆ 2013-05-21 ┆ 24      ┆ 216        ┆ … ┆ null       ┆ null      ┆ null      ┆ null      │\n",
       "│         ┆ 11:06:37   ┆         ┆            ┆   ┆            ┆           ┆           ┆           │\n",
       "│ 332787  ┆ 2013-05-21 ┆ 24      ┆ 216        ┆ … ┆ null       ┆ null      ┆ null      ┆ null      │\n",
       "│         ┆ 11:06:37   ┆         ┆            ┆   ┆            ┆           ┆           ┆           │\n",
       "└─────────┴────────────┴─────────┴────────────┴───┴────────────┴───────────┴───────────┴───────────┘"
      ],
      "text/html": [
       "<div><style>\n",
       ".dataframe > thead > tr,\n",
       ".dataframe > tbody > tr {\n",
       "  text-align: right;\n",
       "  white-space: pre-wrap;\n",
       "}\n",
       "</style>\n",
       "<small>shape: (4_959_183, 50)</small><table border=\"1\" class=\"dataframe\"><thead><tr><th>srch_id</th><th>date_time</th><th>site_id</th><th>visitor_location_country_id</th><th>visitor_hist_starrating</th><th>visitor_hist_adr_usd</th><th>prop_country_id</th><th>prop_id</th><th>prop_starrating</th><th>prop_review_score</th><th>prop_brand_bool</th><th>prop_location_score1</th><th>prop_location_score2</th><th>prop_log_historical_price</th><th>price_usd</th><th>promotion_flag</th><th>srch_destination_id</th><th>srch_length_of_stay</th><th>srch_booking_window</th><th>srch_adults_count</th><th>srch_children_count</th><th>srch_room_count</th><th>srch_saturday_night_bool</th><th>srch_query_affinity_score</th><th>orig_destination_distance</th><th>random_bool</th><th>comp1_rate</th><th>comp1_inv</th><th>comp1_rate_percent_diff</th><th>comp2_rate</th><th>comp2_inv</th><th>comp2_rate_percent_diff</th><th>comp3_rate</th><th>comp3_inv</th><th>comp3_rate_percent_diff</th><th>comp4_rate</th><th>comp4_inv</th><th>comp4_rate_percent_diff</th><th>comp5_rate</th><th>comp5_inv</th><th>comp5_rate_percent_diff</th><th>comp6_rate</th><th>comp6_inv</th><th>comp6_rate_percent_diff</th><th>comp7_rate</th><th>comp7_inv</th><th>comp7_rate_percent_diff</th><th>comp8_rate</th><th>comp8_inv</th><th>comp8_rate_percent_diff</th></tr><tr><td>i64</td><td>str</td><td>i64</td><td>i64</td><td>f64</td><td>f64</td><td>i64</td><td>i64</td><td>i64</td><td>f64</td><td>i64</td><td>f64</td><td>f64</td><td>f64</td><td>f64</td><td>i64</td><td>i64</td><td>i64</td><td>i64</td><td>i64</td><td>i64</td><td>i64</td><td>i64</td><td>f64</td><td>f64</td><td>i64</td><td>i64</td><td>i64</td><td>i64</td><td>i64</td><td>i64</td><td>i64</td><td>i64</td><td>i64</td><td>i64</td><td>i64</td><td>i64</td><td>i64</td><td>i64</td><td>i64</td><td>i64</td><td>i64</td><td>i64</td><td>i64</td><td>i64</td><td>i64</td><td>i64</td><td>i64</td><td>i64</td><td>i64</td></tr></thead><tbody><tr><td>1</td><td>&quot;2013-02-02 15:27:40&quot;</td><td>24</td><td>216</td><td>null</td><td>null</td><td>219</td><td>3180</td><td>3</td><td>4.5</td><td>1</td><td>2.94</td><td>0.0691</td><td>5.03</td><td>119.0</td><td>0</td><td>19222</td><td>1</td><td>10</td><td>2</td><td>0</td><td>1</td><td>0</td><td>null</td><td>null</td><td>0</td><td>null</td><td>null</td><td>null</td><td>null</td><td>null</td><td>null</td><td>null</td><td>null</td><td>null</td><td>null</td><td>null</td><td>null</td><td>null</td><td>null</td><td>null</td><td>null</td><td>null</td><td>null</td><td>null</td><td>null</td><td>null</td><td>null</td><td>null</td><td>null</td></tr><tr><td>1</td><td>&quot;2013-02-02 15:27:40&quot;</td><td>24</td><td>216</td><td>null</td><td>null</td><td>219</td><td>5543</td><td>3</td><td>4.5</td><td>1</td><td>2.64</td><td>0.0843</td><td>4.93</td><td>118.0</td><td>0</td><td>19222</td><td>1</td><td>10</td><td>2</td><td>0</td><td>1</td><td>0</td><td>null</td><td>null</td><td>0</td><td>null</td><td>null</td><td>null</td><td>0</td><td>0</td><td>null</td><td>null</td><td>null</td><td>null</td><td>null</td><td>null</td><td>null</td><td>null</td><td>null</td><td>null</td><td>null</td><td>null</td><td>null</td><td>null</td><td>null</td><td>null</td><td>null</td><td>null</td><td>null</td></tr><tr><td>1</td><td>&quot;2013-02-02 15:27:40&quot;</td><td>24</td><td>216</td><td>null</td><td>null</td><td>219</td><td>14142</td><td>2</td><td>3.5</td><td>1</td><td>2.71</td><td>0.0556</td><td>4.16</td><td>49.0</td><td>0</td><td>19222</td><td>1</td><td>10</td><td>2</td><td>0</td><td>1</td><td>0</td><td>null</td><td>null</td><td>0</td><td>null</td><td>null</td><td>null</td><td>0</td><td>0</td><td>null</td><td>null</td><td>null</td><td>null</td><td>null</td><td>null</td><td>null</td><td>1</td><td>0</td><td>10</td><td>null</td><td>null</td><td>null</td><td>null</td><td>null</td><td>null</td><td>null</td><td>null</td><td>null</td></tr><tr><td>1</td><td>&quot;2013-02-02 15:27:40&quot;</td><td>24</td><td>216</td><td>null</td><td>null</td><td>219</td><td>22393</td><td>3</td><td>4.5</td><td>1</td><td>2.4</td><td>0.0561</td><td>5.03</td><td>143.0</td><td>0</td><td>19222</td><td>1</td><td>10</td><td>2</td><td>0</td><td>1</td><td>0</td><td>null</td><td>null</td><td>0</td><td>null</td><td>null</td><td>null</td><td>0</td><td>0</td><td>null</td><td>null</td><td>null</td><td>null</td><td>null</td><td>null</td><td>null</td><td>0</td><td>0</td><td>null</td><td>null</td><td>null</td><td>null</td><td>null</td><td>null</td><td>null</td><td>null</td><td>null</td><td>null</td></tr><tr><td>1</td><td>&quot;2013-02-02 15:27:40&quot;</td><td>24</td><td>216</td><td>null</td><td>null</td><td>219</td><td>24194</td><td>3</td><td>4.5</td><td>1</td><td>2.94</td><td>0.209</td><td>4.72</td><td>79.0</td><td>0</td><td>19222</td><td>1</td><td>10</td><td>2</td><td>0</td><td>1</td><td>0</td><td>null</td><td>null</td><td>0</td><td>null</td><td>null</td><td>null</td><td>0</td><td>0</td><td>null</td><td>null</td><td>null</td><td>null</td><td>null</td><td>null</td><td>null</td><td>0</td><td>0</td><td>null</td><td>null</td><td>null</td><td>null</td><td>null</td><td>null</td><td>null</td><td>null</td><td>null</td><td>null</td></tr><tr><td>&hellip;</td><td>&hellip;</td><td>&hellip;</td><td>&hellip;</td><td>&hellip;</td><td>&hellip;</td><td>&hellip;</td><td>&hellip;</td><td>&hellip;</td><td>&hellip;</td><td>&hellip;</td><td>&hellip;</td><td>&hellip;</td><td>&hellip;</td><td>&hellip;</td><td>&hellip;</td><td>&hellip;</td><td>&hellip;</td><td>&hellip;</td><td>&hellip;</td><td>&hellip;</td><td>&hellip;</td><td>&hellip;</td><td>&hellip;</td><td>&hellip;</td><td>&hellip;</td><td>&hellip;</td><td>&hellip;</td><td>&hellip;</td><td>&hellip;</td><td>&hellip;</td><td>&hellip;</td><td>&hellip;</td><td>&hellip;</td><td>&hellip;</td><td>&hellip;</td><td>&hellip;</td><td>&hellip;</td><td>&hellip;</td><td>&hellip;</td><td>&hellip;</td><td>&hellip;</td><td>&hellip;</td><td>&hellip;</td><td>&hellip;</td><td>&hellip;</td><td>&hellip;</td><td>&hellip;</td><td>&hellip;</td><td>&hellip;</td></tr><tr><td>332787</td><td>&quot;2013-05-21 11:06:37&quot;</td><td>24</td><td>216</td><td>null</td><td>null</td><td>117</td><td>32019</td><td>4</td><td>3.5</td><td>0</td><td>2.48</td><td>0.0551</td><td>4.53</td><td>66.07</td><td>0</td><td>19246</td><td>2</td><td>7</td><td>1</td><td>0</td><td>1</td><td>0</td><td>null</td><td>null</td><td>0</td><td>null</td><td>null</td><td>null</td><td>1</td><td>0</td><td>22</td><td>1</td><td>0</td><td>127</td><td>-1</td><td>0</td><td>27</td><td>1</td><td>0</td><td>22</td><td>null</td><td>null</td><td>null</td><td>null</td><td>null</td><td>null</td><td>null</td><td>null</td><td>null</td></tr><tr><td>332787</td><td>&quot;2013-05-21 11:06:37&quot;</td><td>24</td><td>216</td><td>null</td><td>null</td><td>117</td><td>33959</td><td>4</td><td>3.0</td><td>1</td><td>2.2</td><td>0.3344</td><td>4.39</td><td>67.1</td><td>0</td><td>19246</td><td>2</td><td>7</td><td>1</td><td>0</td><td>1</td><td>0</td><td>null</td><td>null</td><td>0</td><td>null</td><td>null</td><td>null</td><td>0</td><td>0</td><td>null</td><td>0</td><td>0</td><td>null</td><td>0</td><td>0</td><td>16</td><td>1</td><td>0</td><td>22</td><td>null</td><td>null</td><td>null</td><td>null</td><td>null</td><td>null</td><td>null</td><td>null</td><td>null</td></tr><tr><td>332787</td><td>&quot;2013-05-21 11:06:37&quot;</td><td>24</td><td>216</td><td>null</td><td>null</td><td>117</td><td>35240</td><td>4</td><td>0.0</td><td>0</td><td>1.79</td><td>null</td><td>4.64</td><td>73.91</td><td>0</td><td>19246</td><td>2</td><td>7</td><td>1</td><td>0</td><td>1</td><td>0</td><td>null</td><td>null</td><td>0</td><td>null</td><td>null</td><td>null</td><td>1</td><td>0</td><td>55</td><td>0</td><td>0</td><td>null</td><td>0</td><td>0</td><td>16</td><td>0</td><td>0</td><td>3</td><td>null</td><td>null</td><td>null</td><td>null</td><td>null</td><td>null</td><td>null</td><td>null</td><td>null</td></tr><tr><td>332787</td><td>&quot;2013-05-21 11:06:37&quot;</td><td>24</td><td>216</td><td>null</td><td>null</td><td>117</td><td>94437</td><td>4</td><td>0.0</td><td>0</td><td>2.94</td><td>0.0928</td><td>4.64</td><td>66.07</td><td>0</td><td>19246</td><td>2</td><td>7</td><td>1</td><td>0</td><td>1</td><td>0</td><td>null</td><td>null</td><td>0</td><td>null</td><td>null</td><td>null</td><td>1</td><td>0</td><td>43</td><td>1</td><td>0</td><td>43</td><td>-1</td><td>0</td><td>12</td><td>-1</td><td>0</td><td>12</td><td>null</td><td>null</td><td>null</td><td>null</td><td>null</td><td>null</td><td>null</td><td>null</td><td>null</td></tr><tr><td>332787</td><td>&quot;2013-05-21 11:06:37&quot;</td><td>24</td><td>216</td><td>null</td><td>null</td><td>117</td><td>99509</td><td>4</td><td>4.5</td><td>1</td><td>2.08</td><td>0.0344</td><td>4.64</td><td>82.06</td><td>0</td><td>19246</td><td>2</td><td>7</td><td>1</td><td>0</td><td>1</td><td>0</td><td>null</td><td>null</td><td>0</td><td>null</td><td>null</td><td>null</td><td>0</td><td>0</td><td>null</td><td>0</td><td>0</td><td>null</td><td>0</td><td>0</td><td>16</td><td>0</td><td>0</td><td>null</td><td>null</td><td>null</td><td>null</td><td>null</td><td>null</td><td>null</td><td>null</td><td>null</td><td>null</td></tr></tbody></table></div>"
      ]
     },
     "execution_count": 2,
     "metadata": {},
     "output_type": "execute_result"
    }
   ],
   "execution_count": 2
  },
  {
   "cell_type": "markdown",
   "id": "7de8626e",
   "metadata": {},
   "source": [
    "# Exploratory Data Analysis"
   ]
  },
  {
   "cell_type": "code",
   "id": "89366dfc",
   "metadata": {
    "ExecuteTime": {
     "end_time": "2025-05-10T15:33:22.264579Z",
     "start_time": "2025-05-10T15:33:21.184820Z"
    }
   },
   "source": [
    "\n",
    "#Finds and removes columns that have more than 80% missing values\n",
    "high_missing_cols = model.get_columns_with_high_missing(threshold=0.8)\n",
    "\n",
    "model.drop_columns(high_missing_cols)\n",
    "model2.drop_columns(high_missing_cols)\n",
    "model.drop_columns(['date_time'])\n",
    "model2.drop_columns(['date_time'])\n",
    "\n",
    "#Prints the new dataset after dropping columns\n",
    "print(\"New dataframe after dropping high-missing columns:\")\n",
    "print(model.dataframe)\n",
    "\n",
    "# Prints out the summary of numericals columns such as range mean...\n",
    "model.summarize_numerical_columns()\n",
    "model.get_non_numerical_columns()\n",
    "\n",
    "#Prints out columns that have missing values still\n",
    "model.get_columns_with_missing_values()\n",
    " "
   ],
   "outputs": [
    {
     "name": "stdout",
     "output_type": "stream",
     "text": [
      "Columns with more than 80% missing values: ['visitor_hist_starrating', 'visitor_hist_adr_usd', 'srch_query_affinity_score', 'comp1_rate', 'comp1_inv', 'comp1_rate_percent_diff', 'comp2_rate_percent_diff', 'comp3_rate_percent_diff', 'comp4_rate', 'comp4_inv', 'comp4_rate_percent_diff', 'comp5_rate_percent_diff', 'comp6_rate', 'comp6_inv', 'comp6_rate_percent_diff', 'comp7_rate', 'comp7_inv', 'comp7_rate_percent_diff', 'comp8_rate_percent_diff', 'gross_bookings_usd']\n",
      "Dropping columns: ['visitor_hist_starrating', 'visitor_hist_adr_usd', 'srch_query_affinity_score', 'comp1_rate', 'comp1_inv', 'comp1_rate_percent_diff', 'comp2_rate_percent_diff', 'comp3_rate_percent_diff', 'comp4_rate', 'comp4_inv', 'comp4_rate_percent_diff', 'comp5_rate_percent_diff', 'comp6_rate', 'comp6_inv', 'comp6_rate_percent_diff', 'comp7_rate', 'comp7_inv', 'comp7_rate_percent_diff', 'comp8_rate_percent_diff', 'gross_bookings_usd']\n",
      "Remaining columns: ['srch_id', 'date_time', 'site_id', 'visitor_location_country_id', 'prop_country_id', 'prop_id', 'prop_starrating', 'prop_review_score', 'prop_brand_bool', 'prop_location_score1', 'prop_location_score2', 'prop_log_historical_price', 'position', 'price_usd', 'promotion_flag', 'srch_destination_id', 'srch_length_of_stay', 'srch_booking_window', 'srch_adults_count', 'srch_children_count', 'srch_room_count', 'srch_saturday_night_bool', 'orig_destination_distance', 'random_bool', 'comp2_rate', 'comp2_inv', 'comp3_rate', 'comp3_inv', 'comp5_rate', 'comp5_inv', 'comp8_rate', 'comp8_inv', 'click_bool', 'booking_bool']\n",
      "Dataframe shape after dropping columns: (4958347, 34)\n",
      "Dropping columns: ['visitor_hist_starrating', 'visitor_hist_adr_usd', 'srch_query_affinity_score', 'comp1_rate', 'comp1_inv', 'comp1_rate_percent_diff', 'comp2_rate_percent_diff', 'comp3_rate_percent_diff', 'comp4_rate', 'comp4_inv', 'comp4_rate_percent_diff', 'comp5_rate_percent_diff', 'comp6_rate', 'comp6_inv', 'comp6_rate_percent_diff', 'comp7_rate', 'comp7_inv', 'comp7_rate_percent_diff', 'comp8_rate_percent_diff', 'gross_bookings_usd']\n",
      "Warning: Columns not found and ignored: ['gross_bookings_usd']\n",
      "Remaining columns: ['srch_id', 'date_time', 'site_id', 'visitor_location_country_id', 'prop_country_id', 'prop_id', 'prop_starrating', 'prop_review_score', 'prop_brand_bool', 'prop_location_score1', 'prop_location_score2', 'prop_log_historical_price', 'price_usd', 'promotion_flag', 'srch_destination_id', 'srch_length_of_stay', 'srch_booking_window', 'srch_adults_count', 'srch_children_count', 'srch_room_count', 'srch_saturday_night_bool', 'orig_destination_distance', 'random_bool', 'comp2_rate', 'comp2_inv', 'comp3_rate', 'comp3_inv', 'comp5_rate', 'comp5_inv', 'comp8_rate', 'comp8_inv']\n",
      "Dataframe shape after dropping columns: (4959183, 31)\n",
      "Dropping columns: ['date_time']\n",
      "Remaining columns: ['srch_id', 'site_id', 'visitor_location_country_id', 'prop_country_id', 'prop_id', 'prop_starrating', 'prop_review_score', 'prop_brand_bool', 'prop_location_score1', 'prop_location_score2', 'prop_log_historical_price', 'position', 'price_usd', 'promotion_flag', 'srch_destination_id', 'srch_length_of_stay', 'srch_booking_window', 'srch_adults_count', 'srch_children_count', 'srch_room_count', 'srch_saturday_night_bool', 'orig_destination_distance', 'random_bool', 'comp2_rate', 'comp2_inv', 'comp3_rate', 'comp3_inv', 'comp5_rate', 'comp5_inv', 'comp8_rate', 'comp8_inv', 'click_bool', 'booking_bool']\n",
      "Dataframe shape after dropping columns: (4958347, 33)\n",
      "Dropping columns: ['date_time']\n",
      "Remaining columns: ['srch_id', 'site_id', 'visitor_location_country_id', 'prop_country_id', 'prop_id', 'prop_starrating', 'prop_review_score', 'prop_brand_bool', 'prop_location_score1', 'prop_location_score2', 'prop_log_historical_price', 'price_usd', 'promotion_flag', 'srch_destination_id', 'srch_length_of_stay', 'srch_booking_window', 'srch_adults_count', 'srch_children_count', 'srch_room_count', 'srch_saturday_night_bool', 'orig_destination_distance', 'random_bool', 'comp2_rate', 'comp2_inv', 'comp3_rate', 'comp3_inv', 'comp5_rate', 'comp5_inv', 'comp8_rate', 'comp8_inv']\n",
      "Dataframe shape after dropping columns: (4959183, 30)\n",
      "New dataframe after dropping high-missing columns:\n",
      "shape: (4_958_347, 33)\n",
      "┌─────────┬─────────┬────────────┬────────────┬───┬────────────┬───────────┬───────────┬───────────┐\n",
      "│ srch_id ┆ site_id ┆ visitor_lo ┆ prop_count ┆ … ┆ comp8_rate ┆ comp8_inv ┆ click_boo ┆ booking_b │\n",
      "│ ---     ┆ ---     ┆ cation_cou ┆ ry_id      ┆   ┆ ---        ┆ ---       ┆ l         ┆ ool       │\n",
      "│ i64     ┆ i64     ┆ ntry_id    ┆ ---        ┆   ┆ i64        ┆ i64       ┆ ---       ┆ ---       │\n",
      "│         ┆         ┆ ---        ┆ i64        ┆   ┆            ┆           ┆ i64       ┆ i64       │\n",
      "│         ┆         ┆ i64        ┆            ┆   ┆            ┆           ┆           ┆           │\n",
      "╞═════════╪═════════╪════════════╪════════════╪═══╪════════════╪═══════════╪═══════════╪═══════════╡\n",
      "│ 1       ┆ 12      ┆ 187        ┆ 219        ┆ … ┆ 0          ┆ 0         ┆ 0         ┆ 0         │\n",
      "│ 1       ┆ 12      ┆ 187        ┆ 219        ┆ … ┆ 0          ┆ 0         ┆ 0         ┆ 0         │\n",
      "│ 1       ┆ 12      ┆ 187        ┆ 219        ┆ … ┆ 0          ┆ 0         ┆ 0         ┆ 0         │\n",
      "│ 1       ┆ 12      ┆ 187        ┆ 219        ┆ … ┆ -1         ┆ 0         ┆ 0         ┆ 0         │\n",
      "│ 1       ┆ 12      ┆ 187        ┆ 219        ┆ … ┆ 0          ┆ 0         ┆ 0         ┆ 0         │\n",
      "│ …       ┆ …       ┆ …          ┆ …          ┆ … ┆ …          ┆ …         ┆ …         ┆ …         │\n",
      "│ 332785  ┆ 5       ┆ 219        ┆ 219        ┆ … ┆ null       ┆ null      ┆ 0         ┆ 0         │\n",
      "│ 332785  ┆ 5       ┆ 219        ┆ 219        ┆ … ┆ null       ┆ null      ┆ 0         ┆ 0         │\n",
      "│ 332785  ┆ 5       ┆ 219        ┆ 219        ┆ … ┆ null       ┆ null      ┆ 0         ┆ 0         │\n",
      "│ 332785  ┆ 5       ┆ 219        ┆ 219        ┆ … ┆ null       ┆ null      ┆ 1         ┆ 1         │\n",
      "│ 332785  ┆ 5       ┆ 219        ┆ 219        ┆ … ┆ null       ┆ null      ┆ 0         ┆ 0         │\n",
      "└─────────┴─────────┴────────────┴────────────┴───┴────────────┴───────────┴───────────┴───────────┘\n",
      "\n",
      "Numerical Column Summary:\n",
      "Column: srch_id\n",
      "  Range: 1–332785\n",
      "  Median: 166507.0\n",
      "  Mean: 166366.5610960669\n",
      "Column: site_id\n",
      "  Range: 1–34\n",
      "  Median: 5.0\n",
      "  Mean: 9.953133372876081\n",
      "Column: visitor_location_country_id\n",
      "  Range: 1–231\n",
      "  Median: 219.0\n",
      "  Mean: 175.3404531792551\n",
      "Column: prop_country_id\n",
      "  Range: 1–230\n",
      "  Median: 219.0\n",
      "  Mean: 173.97389674421737\n",
      "Column: prop_id\n",
      "  Range: 1–140821\n",
      "  Median: 69638.0\n",
      "  Mean: 70079.17949631198\n",
      "Column: prop_starrating\n",
      "  Range: 0–5\n",
      "  Median: 3.0\n",
      "  Mean: 3.1805254856104264\n",
      "Column: prop_review_score\n",
      "  Range: 0.0–5.0\n",
      "  Median: 4.0\n",
      "  Mean: 3.7777767566562033\n",
      "Column: prop_brand_bool\n",
      "  Range: 0–1\n",
      "  Median: 1.0\n",
      "  Mean: 0.6346994270469574\n",
      "Column: prop_location_score1\n",
      "  Range: 0.0–6.98\n",
      "  Median: 2.77\n",
      "  Mean: 2.8725885985793242\n",
      "Column: prop_location_score2\n",
      "  Range: 0.0–1.0\n",
      "  Median: 0.069\n",
      "  Mean: 0.13038516788654803\n",
      "Column: prop_log_historical_price\n",
      "  Range: 0.0–6.21\n",
      "  Median: 4.91\n",
      "  Mean: 4.3179133166759\n",
      "Column: position\n",
      "  Range: 1–40\n",
      "  Median: 16.0\n",
      "  Mean: 16.85623636264263\n",
      "Column: price_usd\n",
      "  Range: 0.0–19726328.0\n",
      "  Median: 122.0\n",
      "  Mean: 254.20958985524786\n",
      "Column: promotion_flag\n",
      "  Range: 0–1\n",
      "  Median: 0.0\n",
      "  Mean: 0.215619842661274\n",
      "Column: srch_destination_id\n",
      "  Range: 2–28416\n",
      "  Median: 13541.0\n",
      "  Mean: 14042.630392548162\n",
      "Column: srch_length_of_stay\n",
      "  Range: 1–57\n",
      "  Median: 2.0\n",
      "  Mean: 2.385427441847051\n",
      "Column: srch_booking_window\n",
      "  Range: 0–492\n",
      "  Median: 17.0\n",
      "  Mean: 37.47416507961222\n",
      "Column: srch_adults_count\n",
      "  Range: 1–9\n",
      "  Median: 2.0\n",
      "  Mean: 1.9726372518906\n",
      "Column: srch_children_count\n",
      "  Range: 0–9\n",
      "  Median: 0.0\n",
      "  Mean: 0.3504918070477923\n",
      "Column: srch_room_count\n",
      "  Range: 1–8\n",
      "  Median: 1.0\n",
      "  Mean: 1.1105249390573109\n",
      "Column: srch_saturday_night_bool\n",
      "  Range: 0–1\n",
      "  Median: 1.0\n",
      "  Mean: 0.5022127333968357\n",
      "Column: orig_destination_distance\n",
      "  Range: 0.01–11666.64\n",
      "  Median: 386.6\n",
      "  Mean: 1301.2344059971977\n",
      "Column: random_bool\n",
      "  Range: 0–1\n",
      "  Median: 0.0\n",
      "  Mean: 0.29590042810638306\n",
      "Column: comp2_rate\n",
      "  Range: -1–1\n",
      "  Median: 0.0\n",
      "  Mean: 0.04418987371781701\n",
      "Column: comp2_inv\n",
      "  Range: -1–1\n",
      "  Median: 0.0\n",
      "  Mean: 0.03931005896438431\n",
      "Column: comp3_rate\n",
      "  Range: -1–1\n",
      "  Median: 0.0\n",
      "  Mean: 0.017290104595747344\n",
      "Column: comp3_inv\n",
      "  Range: -1–1\n",
      "  Median: 0.0\n",
      "  Mean: 0.057768974978649176\n",
      "Column: comp5_rate\n",
      "  Range: -1–1\n",
      "  Median: 0.0\n",
      "  Mean: 0.022676211419055216\n",
      "Column: comp5_inv\n",
      "  Range: -1–1\n",
      "  Median: 0.0\n",
      "  Mean: 0.051428801450835164\n",
      "Column: comp8_rate\n",
      "  Range: -1–1\n",
      "  Median: 0.0\n",
      "  Mean: -0.06089935898706809\n",
      "Column: comp8_inv\n",
      "  Range: -1–1\n",
      "  Median: 0.0\n",
      "  Mean: 0.00996275225748087\n",
      "Column: click_bool\n",
      "  Range: 0–1\n",
      "  Median: 0.0\n",
      "  Mean: 0.04474858254172207\n",
      "Column: booking_bool\n",
      "  Range: 0–1\n",
      "  Median: 0.0\n",
      "  Mean: 0.027910511305481445\n",
      "Non-numerical columns: []\n",
      "Columns with missing values:\n",
      "  prop_review_score: 7364 missing\n",
      "  prop_location_score2: 1090348 missing\n",
      "  orig_destination_distance: 1607782 missing\n",
      "  comp2_rate: 2933675 missing\n",
      "  comp2_inv: 2828078 missing\n",
      "  comp3_rate: 3424059 missing\n",
      "  comp3_inv: 3307357 missing\n",
      "  comp5_rate: 2735974 missing\n",
      "  comp5_inv: 2598327 missing\n",
      "  comp8_rate: 3041693 missing\n",
      "  comp8_inv: 2970844 missing\n"
     ]
    },
    {
     "data": {
      "text/plain": [
       "['prop_review_score',\n",
       " 'prop_location_score2',\n",
       " 'orig_destination_distance',\n",
       " 'comp2_rate',\n",
       " 'comp2_inv',\n",
       " 'comp3_rate',\n",
       " 'comp3_inv',\n",
       " 'comp5_rate',\n",
       " 'comp5_inv',\n",
       " 'comp8_rate',\n",
       " 'comp8_inv']"
      ]
     },
     "execution_count": 3,
     "metadata": {},
     "output_type": "execute_result"
    }
   ],
   "execution_count": 3
  },
  {
   "cell_type": "code",
   "id": "fb1abb94",
   "metadata": {
    "ExecuteTime": {
     "end_time": "2025-05-10T15:33:27.291672Z",
     "start_time": "2025-05-10T15:33:27.232343Z"
    }
   },
   "source": [
    "from polars import SQLContext\n",
    "import polars as pl\n",
    "pl.Config.set_tbl_rows(-1)      # no row limit\n",
    "pl.Config.set_tbl_cols(-1)      # no column limit\n",
    "pl.Config.set_fmt_str_lengths(1000) # no string‐width limit\n",
    "ctx = SQLContext()\n",
    "ctx.register(\"my_table\", model.dataframe)\n",
    "\n",
    "# query = \"\"\"\n",
    "# select srch_id,count(*) from my_table\n",
    "# group by srch_id     a\n",
    "# \"\"\"\n",
    "\n",
    "# query = \"\"\"\n",
    "# select srch_id as id, click_bool as click,booking_bool as book, * from my_table\n",
    "# where srch_id  = 1    \n",
    "# \"\"\"\n",
    "\n",
    "# query = \"\"\"\n",
    "# select \n",
    "#     prop_id,\n",
    "#     avg(prop_location_score1 + prop_location_score2) as avg_location_score\n",
    "# from my_table\n",
    "# group by prop_id \n",
    "# \"\"\"\n",
    "\n",
    "\n",
    "query = \"\"\"\n",
    "SELECT\n",
    "  srch_id,\n",
    "  (  (comp2_rate IS NOT NULL)::INT \n",
    "   + (comp8_rate IS NOT NULL)::INT\n",
    "  ) AS n_comps_priced,\n",
    "  (  (comp2_inv  IS NOT NULL)::INT \n",
    "   + (comp8_inv  IS NOT NULL)::INT\n",
    "  ) AS n_comps_avail\n",
    "FROM my_table \n",
    "\"\"\"\n",
    "\n",
    "# run a proper SQL query (note LIMIT, not TOP)\n",
    "lazy_df = ctx.execute(query)\n",
    "\n",
    "# collect() executes the plan and gives you a DataFrame\n",
    "df_out = lazy_df.collect()\n",
    "print(df_out.head(10))\n"
   ],
   "outputs": [
    {
     "name": "stdout",
     "output_type": "stream",
     "text": [
      "shape: (10, 3)\n",
      "┌─────────┬────────────────┬───────────────┐\n",
      "│ srch_id ┆ n_comps_priced ┆ n_comps_avail │\n",
      "│ ---     ┆ ---            ┆ ---           │\n",
      "│ i64     ┆ i32            ┆ i32           │\n",
      "╞═════════╪════════════════╪═══════════════╡\n",
      "│ 1       ┆ 2              ┆ 2             │\n",
      "│ 1       ┆ 1              ┆ 1             │\n",
      "│ 1       ┆ 2              ┆ 2             │\n",
      "│ 1       ┆ 2              ┆ 2             │\n",
      "│ 1       ┆ 2              ┆ 2             │\n",
      "│ 1       ┆ 1              ┆ 1             │\n",
      "│ 1       ┆ 2              ┆ 2             │\n",
      "│ 1       ┆ 0              ┆ 0             │\n",
      "│ 1       ┆ 2              ┆ 2             │\n",
      "│ 1       ┆ 2              ┆ 2             │\n",
      "└─────────┴────────────────┴───────────────┘\n"
     ]
    }
   ],
   "execution_count": 4
  },
  {
   "cell_type": "markdown",
   "id": "a45f63dc",
   "metadata": {},
   "source": [
    "# Feature Engineering"
   ]
  },
  {
   "cell_type": "code",
   "id": "d2e7a357",
   "metadata": {
    "ExecuteTime": {
     "end_time": "2025-05-10T15:31:52.641376Z",
     "start_time": "2025-05-10T15:31:50.393783Z"
    }
   },
   "source": [
    "from Dora_EDA import FeatureEngineer\n",
    "\n",
    "# After your cleaning steps\n",
    "feature_engineer = FeatureEngineer(model.dataframe)\n",
    "df_imputed = feature_engineer.transform()\n",
    "df_imputed = feature_engineer.add_interaction_target()\n",
    "df_imputed = feature_engineer.add_avg_location_score()\n",
    "df_imputed = feature_engineer.add_avg_guest_count()\n",
    "df_imputed = feature_engineer.add_avg_location_score()\n",
    "\n",
    "\n",
    "feature_engineer2 = FeatureEngineer(model2.dataframe)\n",
    "df_imputed_test = feature_engineer2.transform()\n",
    "df_imputed_test = feature_engineer2.add_interaction_target()\n",
    "df_imputed_test = feature_engineer2.add_avg_location_score()\n",
    "df_imputed_test = feature_engineer2.add_avg_guest_count()\n",
    "df_imputed_test = feature_engineer2.add_avg_location_score()\n",
    "# Set back to the model if needed\n",
    "model.dataframe = df_imputed\n",
    "model2.dataframe = df_imputed_test\n",
    "\n",
    "# Final check\n",
    "print(\"✅ Columns with missing values AFTER imputation:\")\n",
    "model.get_columns_with_missing_values()\n",
    "\n",
    "print(\"✅ Columns with missing values AFTER imputation:\")\n",
    "model2.get_columns_with_missing_values()\n",
    "\n",
    "\n"
   ],
   "outputs": [
    {
     "name": "stdout",
     "output_type": "stream",
     "text": [
      "\n",
      "=== FeatureEngineering (Auto-Imputation): Start ===\n",
      "Found 11 columns with missing values: ['prop_review_score', 'prop_location_score2', 'orig_destination_distance', 'comp2_rate', 'comp2_inv', 'comp3_rate', 'comp3_inv', 'comp5_rate', 'comp5_inv', 'comp8_rate', 'comp8_inv']\n",
      "Imputed prop_review_score (continuous numeric) with median: 4.0\n",
      "Imputed prop_location_score2 (continuous numeric) with median: 0.069\n",
      "Imputed orig_destination_distance (continuous numeric) with median: 386.6\n",
      "Imputed comp2_rate (binary/categorical numeric) with mode: 0\n",
      "Imputed comp2_inv (binary/categorical numeric) with mode: 0\n",
      "Imputed comp3_rate (binary/categorical numeric) with mode: 0\n",
      "Imputed comp3_inv (binary/categorical numeric) with mode: 0\n",
      "Imputed comp5_rate (binary/categorical numeric) with mode: 0\n",
      "Imputed comp5_inv (binary/categorical numeric) with mode: 0\n",
      "Imputed comp8_rate (binary/categorical numeric) with mode: 0\n",
      "Imputed comp8_inv (binary/categorical numeric) with mode: 0\n",
      "\n",
      "=== FeatureEngineering: Complete ===\n",
      "Binary/categorical numeric columns imputed: ['comp2_rate', 'comp2_inv', 'comp3_rate', 'comp3_inv', 'comp5_rate', 'comp5_inv', 'comp8_rate', 'comp8_inv']\n",
      "Continuous numeric columns imputed: ['prop_review_score', 'prop_location_score2', 'orig_destination_distance']\n",
      "\n",
      "=== FeatureEngineering (Target Engineering): Start ===\n",
      "✅ Adding interaction_target column (combining booking_bool and click_bool)...\n",
      "✅ interaction_target added!\n"
     ]
    },
    {
     "ename": "ColumnNotFoundError",
     "evalue": "prop_location_score1\n\nResolved plan until failure:\n\n\t---> FAILED HERE RESOLVING 'sink' <---\nDF [\"srch_id\", \"site_id\", \"visitor_location_country_id\", \"prop_country_id\", ...]; PROJECT */32 COLUMNS",
     "output_type": "error",
     "traceback": [
      "\u001B[31m---------------------------------------------------------------------------\u001B[39m",
      "\u001B[31mColumnNotFoundError\u001B[39m                       Traceback (most recent call last)",
      "\u001B[36mCell\u001B[39m\u001B[36m \u001B[39m\u001B[32mIn[5]\u001B[39m\u001B[32m, line 9\u001B[39m\n\u001B[32m      7\u001B[39m df_imputed = feature_engineer.add_avg_location_score()\n\u001B[32m      8\u001B[39m df_imputed = feature_engineer.add_avg_guest_count()\n\u001B[32m----> \u001B[39m\u001B[32m9\u001B[39m df_imputed = \u001B[43mfeature_engineer\u001B[49m\u001B[43m.\u001B[49m\u001B[43madd_avg_location_score\u001B[49m\u001B[43m(\u001B[49m\u001B[43m)\u001B[49m\n\u001B[32m     12\u001B[39m feature_engineer2 = FeatureEngineer(model2.dataframe)\n\u001B[32m     13\u001B[39m df_imputed_test = feature_engineer2.transform()\n",
      "\u001B[36mFile \u001B[39m\u001B[32m~/PycharmProjects/Data-Mining/Dora_EDA.py:538\u001B[39m, in \u001B[36mFeatureEngineer.add_avg_location_score\u001B[39m\u001B[34m(self, how)\u001B[39m\n\u001B[32m    533\u001B[39m \u001B[38;5;28;01mif\u001B[39;00m \u001B[38;5;129;01mnot\u001B[39;00m \u001B[38;5;28misinstance\u001B[39m(\u001B[38;5;28mself\u001B[39m.df, pl.DataFrame):\n\u001B[32m    534\u001B[39m     \u001B[38;5;28mself\u001B[39m.df = pl.DataFrame(\u001B[38;5;28mself\u001B[39m.df)\n\u001B[32m    535\u001B[39m agg = (\n\u001B[32m    536\u001B[39m     \u001B[38;5;28;43mself\u001B[39;49m\u001B[43m.\u001B[49m\u001B[43mdf\u001B[49m\n\u001B[32m    537\u001B[39m \u001B[43m    \u001B[49m\u001B[43m.\u001B[49m\u001B[43mgroup_by\u001B[49m\u001B[43m(\u001B[49m\u001B[33;43m\"\u001B[39;49m\u001B[33;43mprop_id\u001B[39;49m\u001B[33;43m\"\u001B[39;49m\u001B[43m)\u001B[49m\u001B[43m                             \u001B[49m\n\u001B[32m--> \u001B[39m\u001B[32m538\u001B[39m \u001B[43m    \u001B[49m\u001B[43m.\u001B[49m\u001B[43magg\u001B[49m\u001B[43m(\u001B[49m\n\u001B[32m    539\u001B[39m \u001B[43m        \u001B[49m\u001B[43m(\u001B[49m\u001B[43mpl\u001B[49m\u001B[43m.\u001B[49m\u001B[43mcol\u001B[49m\u001B[43m(\u001B[49m\u001B[33;43m\"\u001B[39;49m\u001B[33;43mprop_location_score1\u001B[39;49m\u001B[33;43m\"\u001B[39;49m\u001B[43m)\u001B[49m\u001B[43m \u001B[49m\u001B[43m+\u001B[49m\n\u001B[32m    540\u001B[39m \u001B[43m         \u001B[49m\u001B[43mpl\u001B[49m\u001B[43m.\u001B[49m\u001B[43mcol\u001B[49m\u001B[43m(\u001B[49m\u001B[33;43m\"\u001B[39;49m\u001B[33;43mprop_location_score2\u001B[39;49m\u001B[33;43m\"\u001B[39;49m\u001B[43m)\u001B[49m\u001B[43m)\u001B[49m\n\u001B[32m    541\u001B[39m \u001B[43m        \u001B[49m\u001B[43m.\u001B[49m\u001B[43mmean\u001B[49m\u001B[43m(\u001B[49m\u001B[43m)\u001B[49m\n\u001B[32m    542\u001B[39m \u001B[43m        \u001B[49m\u001B[43m.\u001B[49m\u001B[43malias\u001B[49m\u001B[43m(\u001B[49m\u001B[33;43m\"\u001B[39;49m\u001B[33;43mavg_location_score\u001B[39;49m\u001B[33;43m\"\u001B[39;49m\u001B[43m)\u001B[49m\n\u001B[32m    543\u001B[39m \u001B[43m    \u001B[49m\u001B[43m)\u001B[49m\n\u001B[32m    544\u001B[39m )\n\u001B[32m    545\u001B[39m \u001B[38;5;28mself\u001B[39m.df = (\n\u001B[32m    546\u001B[39m     \u001B[38;5;28mself\u001B[39m.df\n\u001B[32m    547\u001B[39m     .join(agg, on=\u001B[33m\"\u001B[39m\u001B[33mprop_id\u001B[39m\u001B[33m\"\u001B[39m, how=how)\n\u001B[32m    548\u001B[39m     .drop([\u001B[33m\"\u001B[39m\u001B[33mprop_location_score1\u001B[39m\u001B[33m\"\u001B[39m, \u001B[33m\"\u001B[39m\u001B[33mprop_location_score2\u001B[39m\u001B[33m\"\u001B[39m])\n\u001B[32m    549\u001B[39m )\n\u001B[32m    550\u001B[39m \u001B[38;5;28;01mreturn\u001B[39;00m \u001B[38;5;28mself\u001B[39m.df\n",
      "\u001B[36mFile \u001B[39m\u001B[32m~/PycharmProjects/Data-Mining/.venv/lib/python3.11/site-packages/polars/dataframe/group_by.py:232\u001B[39m, in \u001B[36mGroupBy.agg\u001B[39m\u001B[34m(self, *aggs, **named_aggs)\u001B[39m\n\u001B[32m    123\u001B[39m \u001B[38;5;28;01mdef\u001B[39;00m\u001B[38;5;250m \u001B[39m\u001B[34magg\u001B[39m(\n\u001B[32m    124\u001B[39m     \u001B[38;5;28mself\u001B[39m,\n\u001B[32m    125\u001B[39m     *aggs: IntoExpr | Iterable[IntoExpr],\n\u001B[32m    126\u001B[39m     **named_aggs: IntoExpr,\n\u001B[32m    127\u001B[39m ) -> DataFrame:\n\u001B[32m    128\u001B[39m \u001B[38;5;250m    \u001B[39m\u001B[33;03m\"\"\"\u001B[39;00m\n\u001B[32m    129\u001B[39m \u001B[33;03m    Compute aggregations for each group of a group by operation.\u001B[39;00m\n\u001B[32m    130\u001B[39m \n\u001B[32m   (...)\u001B[39m\u001B[32m    226\u001B[39m \u001B[33;03m    └─────┴───────┴────────────────┘\u001B[39;00m\n\u001B[32m    227\u001B[39m \u001B[33;03m    \"\"\"\u001B[39;00m\n\u001B[32m    228\u001B[39m     \u001B[38;5;28;01mreturn\u001B[39;00m (\n\u001B[32m    229\u001B[39m         \u001B[38;5;28;43mself\u001B[39;49m\u001B[43m.\u001B[49m\u001B[43mdf\u001B[49m\u001B[43m.\u001B[49m\u001B[43mlazy\u001B[49m\u001B[43m(\u001B[49m\u001B[43m)\u001B[49m\n\u001B[32m    230\u001B[39m \u001B[43m        \u001B[49m\u001B[43m.\u001B[49m\u001B[43mgroup_by\u001B[49m\u001B[43m(\u001B[49m\u001B[43m*\u001B[49m\u001B[38;5;28;43mself\u001B[39;49m\u001B[43m.\u001B[49m\u001B[43mby\u001B[49m\u001B[43m,\u001B[49m\u001B[43m \u001B[49m\u001B[43m*\u001B[49m\u001B[43m*\u001B[49m\u001B[38;5;28;43mself\u001B[39;49m\u001B[43m.\u001B[49m\u001B[43mnamed_by\u001B[49m\u001B[43m,\u001B[49m\u001B[43m \u001B[49m\u001B[43mmaintain_order\u001B[49m\u001B[43m=\u001B[49m\u001B[38;5;28;43mself\u001B[39;49m\u001B[43m.\u001B[49m\u001B[43mmaintain_order\u001B[49m\u001B[43m)\u001B[49m\n\u001B[32m    231\u001B[39m \u001B[43m        \u001B[49m\u001B[43m.\u001B[49m\u001B[43magg\u001B[49m\u001B[43m(\u001B[49m\u001B[43m*\u001B[49m\u001B[43maggs\u001B[49m\u001B[43m,\u001B[49m\u001B[43m \u001B[49m\u001B[43m*\u001B[49m\u001B[43m*\u001B[49m\u001B[43mnamed_aggs\u001B[49m\u001B[43m)\u001B[49m\n\u001B[32m--> \u001B[39m\u001B[32m232\u001B[39m \u001B[43m        \u001B[49m\u001B[43m.\u001B[49m\u001B[43mcollect\u001B[49m\u001B[43m(\u001B[49m\u001B[43mno_optimization\u001B[49m\u001B[43m=\u001B[49m\u001B[38;5;28;43;01mTrue\u001B[39;49;00m\u001B[43m)\u001B[49m\n\u001B[32m    233\u001B[39m     )\n",
      "\u001B[36mFile \u001B[39m\u001B[32m~/PycharmProjects/Data-Mining/.venv/lib/python3.11/site-packages/polars/_utils/deprecation.py:93\u001B[39m, in \u001B[36mdeprecate_streaming_parameter.<locals>.decorate.<locals>.wrapper\u001B[39m\u001B[34m(*args, **kwargs)\u001B[39m\n\u001B[32m     89\u001B[39m         kwargs[\u001B[33m\"\u001B[39m\u001B[33mengine\u001B[39m\u001B[33m\"\u001B[39m] = \u001B[33m\"\u001B[39m\u001B[33min-memory\u001B[39m\u001B[33m\"\u001B[39m\n\u001B[32m     91\u001B[39m     \u001B[38;5;28;01mdel\u001B[39;00m kwargs[\u001B[33m\"\u001B[39m\u001B[33mstreaming\u001B[39m\u001B[33m\"\u001B[39m]\n\u001B[32m---> \u001B[39m\u001B[32m93\u001B[39m \u001B[38;5;28;01mreturn\u001B[39;00m \u001B[43mfunction\u001B[49m\u001B[43m(\u001B[49m\u001B[43m*\u001B[49m\u001B[43margs\u001B[49m\u001B[43m,\u001B[49m\u001B[43m \u001B[49m\u001B[43m*\u001B[49m\u001B[43m*\u001B[49m\u001B[43mkwargs\u001B[49m\u001B[43m)\u001B[49m\n",
      "\u001B[36mFile \u001B[39m\u001B[32m~/PycharmProjects/Data-Mining/.venv/lib/python3.11/site-packages/polars/lazyframe/frame.py:2206\u001B[39m, in \u001B[36mLazyFrame.collect\u001B[39m\u001B[34m(self, type_coercion, _type_check, predicate_pushdown, projection_pushdown, simplify_expression, slice_pushdown, comm_subplan_elim, comm_subexpr_elim, cluster_with_columns, collapse_joins, no_optimization, engine, background, _check_order, _eager, **_kwargs)\u001B[39m\n\u001B[32m   2204\u001B[39m \u001B[38;5;66;03m# Only for testing purposes\u001B[39;00m\n\u001B[32m   2205\u001B[39m callback = _kwargs.get(\u001B[33m\"\u001B[39m\u001B[33mpost_opt_callback\u001B[39m\u001B[33m\"\u001B[39m, callback)\n\u001B[32m-> \u001B[39m\u001B[32m2206\u001B[39m \u001B[38;5;28;01mreturn\u001B[39;00m wrap_df(\u001B[43mldf\u001B[49m\u001B[43m.\u001B[49m\u001B[43mcollect\u001B[49m\u001B[43m(\u001B[49m\u001B[43mengine\u001B[49m\u001B[43m,\u001B[49m\u001B[43m \u001B[49m\u001B[43mcallback\u001B[49m\u001B[43m)\u001B[49m)\n",
      "\u001B[31mColumnNotFoundError\u001B[39m: prop_location_score1\n\nResolved plan until failure:\n\n\t---> FAILED HERE RESOLVING 'sink' <---\nDF [\"srch_id\", \"site_id\", \"visitor_location_country_id\", \"prop_country_id\", ...]; PROJECT */32 COLUMNS"
     ]
    }
   ],
   "execution_count": 5
  },
  {
   "cell_type": "code",
   "execution_count": 35,
   "id": "5f3aa679f6434b65",
   "metadata": {
    "ExecuteTime": {
     "end_time": "2025-05-10T12:40:02.788512Z",
     "start_time": "2025-05-10T12:40:02.733683Z"
    }
   },
   "outputs": [
    {
     "name": "stdout",
     "output_type": "stream",
     "text": [
      "Extra columns in train (dropping these): {'click_bool', 'position', 'booking_bool'}\n"
     ]
    }
   ],
   "source": [
    "train_cols = set(model.dataframe.columns)\n",
    "test_cols = set(model2.dataframe.columns)\n",
    "\n",
    "# 1️⃣ Extra columns in train (but not in test) -- keep target though\n",
    "extra_in_train = train_cols - test_cols - {\"interaction_target\"}  # keep your target columns\n",
    "print(f\"Extra columns in train (dropping these): {extra_in_train}\")\n",
    "model.dataframe = model.dataframe.drop(list(extra_in_train))"
   ]
  },
  {
   "cell_type": "markdown",
   "id": "475bdc5c",
   "metadata": {},
   "source": [
    "# Modelling"
   ]
  },
  {
   "cell_type": "code",
   "execution_count": 37,
   "id": "7a3554d9",
   "metadata": {
    "ExecuteTime": {
     "end_time": "2025-05-10T13:00:11.112626Z",
     "start_time": "2025-05-10T12:41:31.706588Z"
    }
   },
   "outputs": [
    {
     "name": "stdout",
     "output_type": "stream",
     "text": [
      "Preparing data...\n",
      "Using 28 feature columns: ['site_id', 'visitor_location_country_id', 'prop_country_id', 'prop_starrating', 'prop_review_score']... (and more)\n",
      "Training model...\n",
      "Validation Accuracy: 0.9550\n",
      "Predicting scores for ranking...\n"
     ]
    },
    {
     "ename": "ValueError",
     "evalue": "The feature names should match those that were passed during fit.\nFeature names unseen at fit time:\n- date_time\n",
     "output_type": "error",
     "traceback": [
      "\u001B[31m---------------------------------------------------------------------------\u001B[39m",
      "\u001B[31mValueError\u001B[39m                                Traceback (most recent call last)",
      "\u001B[36mCell\u001B[39m\u001B[36m \u001B[39m\u001B[32mIn[37]\u001B[39m\u001B[32m, line 5\u001B[39m\n\u001B[32m      3\u001B[39m ranker = HotelRanker(model.dataframe)\n\u001B[32m      4\u001B[39m ranker.train()\n\u001B[32m----> \u001B[39m\u001B[32m5\u001B[39m predictions = \u001B[43mranker\u001B[49m\u001B[43m.\u001B[49m\u001B[43mpredict\u001B[49m\u001B[43m(\u001B[49m\u001B[43mmodel2\u001B[49m\u001B[43m.\u001B[49m\u001B[43mdataframe\u001B[49m\u001B[43m)\u001B[49m\n\u001B[32m      6\u001B[39m ranker.export_ranking(predictions, filename=\u001B[33m\"\u001B[39m\u001B[33msubmission.csv\u001B[39m\u001B[33m\"\u001B[39m)\n",
      "\u001B[36mFile \u001B[39m\u001B[32m~/PycharmProjects/Data-Mining/Dora_EDA.py:618\u001B[39m, in \u001B[36mHotelRanker.predict\u001B[39m\u001B[34m(self, df_test)\u001B[39m\n\u001B[32m    615\u001B[39m feature_cols = [col \u001B[38;5;28;01mfor\u001B[39;00m col \u001B[38;5;129;01min\u001B[39;00m all_cols \u001B[38;5;28;01mif\u001B[39;00m col \u001B[38;5;129;01mnot\u001B[39;00m \u001B[38;5;129;01min\u001B[39;00m exclude]\n\u001B[32m    617\u001B[39m X_test = df_test.select(feature_cols).to_pandas()\n\u001B[32m--> \u001B[39m\u001B[32m618\u001B[39m scores = \u001B[38;5;28;43mself\u001B[39;49m\u001B[43m.\u001B[49m\u001B[43mmodel\u001B[49m\u001B[43m.\u001B[49m\u001B[43mpredict_proba\u001B[49m\u001B[43m(\u001B[49m\u001B[43mX_test\u001B[49m\u001B[43m)\u001B[49m[:, \u001B[32m1\u001B[39m]  \u001B[38;5;66;03m# Probability of booking = 1\u001B[39;00m\n\u001B[32m    620\u001B[39m \u001B[38;5;66;03m# Return Polars DataFrame for ranking\u001B[39;00m\n\u001B[32m    621\u001B[39m result = pl.DataFrame({\n\u001B[32m    622\u001B[39m     \u001B[33m'\u001B[39m\u001B[33msrch_id\u001B[39m\u001B[33m'\u001B[39m: df_test[\u001B[33m'\u001B[39m\u001B[33msrch_id\u001B[39m\u001B[33m'\u001B[39m],\n\u001B[32m    623\u001B[39m     \u001B[33m'\u001B[39m\u001B[33mprop_id\u001B[39m\u001B[33m'\u001B[39m: df_test[\u001B[33m'\u001B[39m\u001B[33mprop_id\u001B[39m\u001B[33m'\u001B[39m],\n\u001B[32m    624\u001B[39m     \u001B[33m'\u001B[39m\u001B[33mscore\u001B[39m\u001B[33m'\u001B[39m: scores\n\u001B[32m    625\u001B[39m })\n",
      "\u001B[36mFile \u001B[39m\u001B[32m~/PycharmProjects/Data-Mining/.venv/lib/python3.11/site-packages/sklearn/ensemble/_forest.py:946\u001B[39m, in \u001B[36mForestClassifier.predict_proba\u001B[39m\u001B[34m(self, X)\u001B[39m\n\u001B[32m    944\u001B[39m check_is_fitted(\u001B[38;5;28mself\u001B[39m)\n\u001B[32m    945\u001B[39m \u001B[38;5;66;03m# Check data\u001B[39;00m\n\u001B[32m--> \u001B[39m\u001B[32m946\u001B[39m X = \u001B[38;5;28;43mself\u001B[39;49m\u001B[43m.\u001B[49m\u001B[43m_validate_X_predict\u001B[49m\u001B[43m(\u001B[49m\u001B[43mX\u001B[49m\u001B[43m)\u001B[49m\n\u001B[32m    948\u001B[39m \u001B[38;5;66;03m# Assign chunk of trees to jobs\u001B[39;00m\n\u001B[32m    949\u001B[39m n_jobs, _, _ = _partition_estimators(\u001B[38;5;28mself\u001B[39m.n_estimators, \u001B[38;5;28mself\u001B[39m.n_jobs)\n",
      "\u001B[36mFile \u001B[39m\u001B[32m~/PycharmProjects/Data-Mining/.venv/lib/python3.11/site-packages/sklearn/ensemble/_forest.py:638\u001B[39m, in \u001B[36mBaseForest._validate_X_predict\u001B[39m\u001B[34m(self, X)\u001B[39m\n\u001B[32m    635\u001B[39m \u001B[38;5;28;01melse\u001B[39;00m:\n\u001B[32m    636\u001B[39m     ensure_all_finite = \u001B[38;5;28;01mTrue\u001B[39;00m\n\u001B[32m--> \u001B[39m\u001B[32m638\u001B[39m X = \u001B[43mvalidate_data\u001B[49m\u001B[43m(\u001B[49m\n\u001B[32m    639\u001B[39m \u001B[43m    \u001B[49m\u001B[38;5;28;43mself\u001B[39;49m\u001B[43m,\u001B[49m\n\u001B[32m    640\u001B[39m \u001B[43m    \u001B[49m\u001B[43mX\u001B[49m\u001B[43m,\u001B[49m\n\u001B[32m    641\u001B[39m \u001B[43m    \u001B[49m\u001B[43mdtype\u001B[49m\u001B[43m=\u001B[49m\u001B[43mDTYPE\u001B[49m\u001B[43m,\u001B[49m\n\u001B[32m    642\u001B[39m \u001B[43m    \u001B[49m\u001B[43maccept_sparse\u001B[49m\u001B[43m=\u001B[49m\u001B[33;43m\"\u001B[39;49m\u001B[33;43mcsr\u001B[39;49m\u001B[33;43m\"\u001B[39;49m\u001B[43m,\u001B[49m\n\u001B[32m    643\u001B[39m \u001B[43m    \u001B[49m\u001B[43mreset\u001B[49m\u001B[43m=\u001B[49m\u001B[38;5;28;43;01mFalse\u001B[39;49;00m\u001B[43m,\u001B[49m\n\u001B[32m    644\u001B[39m \u001B[43m    \u001B[49m\u001B[43mensure_all_finite\u001B[49m\u001B[43m=\u001B[49m\u001B[43mensure_all_finite\u001B[49m\u001B[43m,\u001B[49m\n\u001B[32m    645\u001B[39m \u001B[43m\u001B[49m\u001B[43m)\u001B[49m\n\u001B[32m    646\u001B[39m \u001B[38;5;28;01mif\u001B[39;00m issparse(X) \u001B[38;5;129;01mand\u001B[39;00m (X.indices.dtype != np.intc \u001B[38;5;129;01mor\u001B[39;00m X.indptr.dtype != np.intc):\n\u001B[32m    647\u001B[39m     \u001B[38;5;28;01mraise\u001B[39;00m \u001B[38;5;167;01mValueError\u001B[39;00m(\u001B[33m\"\u001B[39m\u001B[33mNo support for np.int64 index based sparse matrices\u001B[39m\u001B[33m\"\u001B[39m)\n",
      "\u001B[36mFile \u001B[39m\u001B[32m~/PycharmProjects/Data-Mining/.venv/lib/python3.11/site-packages/sklearn/utils/validation.py:2919\u001B[39m, in \u001B[36mvalidate_data\u001B[39m\u001B[34m(_estimator, X, y, reset, validate_separately, skip_check_array, **check_params)\u001B[39m\n\u001B[32m   2835\u001B[39m \u001B[38;5;28;01mdef\u001B[39;00m\u001B[38;5;250m \u001B[39m\u001B[34mvalidate_data\u001B[39m(\n\u001B[32m   2836\u001B[39m     _estimator,\n\u001B[32m   2837\u001B[39m     /,\n\u001B[32m   (...)\u001B[39m\u001B[32m   2843\u001B[39m     **check_params,\n\u001B[32m   2844\u001B[39m ):\n\u001B[32m   2845\u001B[39m \u001B[38;5;250m    \u001B[39m\u001B[33;03m\"\"\"Validate input data and set or check feature names and counts of the input.\u001B[39;00m\n\u001B[32m   2846\u001B[39m \n\u001B[32m   2847\u001B[39m \u001B[33;03m    This helper function should be used in an estimator that requires input\u001B[39;00m\n\u001B[32m   (...)\u001B[39m\u001B[32m   2917\u001B[39m \u001B[33;03m        validated.\u001B[39;00m\n\u001B[32m   2918\u001B[39m \u001B[33;03m    \"\"\"\u001B[39;00m\n\u001B[32m-> \u001B[39m\u001B[32m2919\u001B[39m     \u001B[43m_check_feature_names\u001B[49m\u001B[43m(\u001B[49m\u001B[43m_estimator\u001B[49m\u001B[43m,\u001B[49m\u001B[43m \u001B[49m\u001B[43mX\u001B[49m\u001B[43m,\u001B[49m\u001B[43m \u001B[49m\u001B[43mreset\u001B[49m\u001B[43m=\u001B[49m\u001B[43mreset\u001B[49m\u001B[43m)\u001B[49m\n\u001B[32m   2920\u001B[39m     tags = get_tags(_estimator)\n\u001B[32m   2921\u001B[39m     \u001B[38;5;28;01mif\u001B[39;00m y \u001B[38;5;129;01mis\u001B[39;00m \u001B[38;5;28;01mNone\u001B[39;00m \u001B[38;5;129;01mand\u001B[39;00m tags.target_tags.required:\n",
      "\u001B[36mFile \u001B[39m\u001B[32m~/PycharmProjects/Data-Mining/.venv/lib/python3.11/site-packages/sklearn/utils/validation.py:2777\u001B[39m, in \u001B[36m_check_feature_names\u001B[39m\u001B[34m(estimator, X, reset)\u001B[39m\n\u001B[32m   2774\u001B[39m \u001B[38;5;28;01mif\u001B[39;00m \u001B[38;5;129;01mnot\u001B[39;00m missing_names \u001B[38;5;129;01mand\u001B[39;00m \u001B[38;5;129;01mnot\u001B[39;00m unexpected_names:\n\u001B[32m   2775\u001B[39m     message += \u001B[33m\"\u001B[39m\u001B[33mFeature names must be in the same order as they were in fit.\u001B[39m\u001B[38;5;130;01m\\n\u001B[39;00m\u001B[33m\"\u001B[39m\n\u001B[32m-> \u001B[39m\u001B[32m2777\u001B[39m \u001B[38;5;28;01mraise\u001B[39;00m \u001B[38;5;167;01mValueError\u001B[39;00m(message)\n",
      "\u001B[31mValueError\u001B[39m: The feature names should match those that were passed during fit.\nFeature names unseen at fit time:\n- date_time\n"
     ]
    }
   ],
   "source": [
    "import polars as pl\n",
    "import lightgbm as lgb\n",
    "train_df = model.dataframe.to_pandas()\n",
    "test_df = model2.dataframe.to_pandas()\n",
    "\n",
    "# 5️⃣ Feature selection: drop target + ID columns\n",
    "features = [col for col in train_df.columns if col not in ['srch_id', 'prop_id', 'interaction_target']]\n",
    "\n",
    "# 6️⃣ Prepare training data\n",
    "X_train = train_df[features]\n",
    "y_train = train_df['interaction_target']\n",
    "\n",
    "# LambdaMART requires group info: count how many hotels per srch_id\n",
    "group_train = train_df.groupby('srch_id').size().to_list()\n",
    "\n",
    "# 7️⃣ Prepare test data\n",
    "X_test = test_df[features]\n",
    "\n",
    "# 8️⃣ Set up LambdaMART parameters\n",
    "params = {\n",
    "    'objective': 'lambdarank',\n",
    "    'metric': 'ndcg',\n",
    "    'ndcg_eval_at': [5],\n",
    "    'learning_rate': 0.1,\n",
    "    'num_leaves': 31,\n",
    "    'min_data_in_leaf': 30,\n",
    "    'verbose': -1,\n",
    "}\n",
    "\n",
    "# 9️⃣ Train LambdaMART\n",
    "lgb_train = lgb.Dataset(X_train, y_train, group=group_train)\n",
    "print(\"🚀 Training LambdaMART...\")\n",
    "ranker = lgb.train(params, lgb_train, num_boost_round=100)\n",
    "print(\"✅ Training complete!\")\n",
    "\n",
    "# 🔟 Predict scores on the test set\n",
    "print(\"🔮 Predicting on test set...\")\n",
    "test_df['score'] = ranker.predict(X_test)\n",
    "\n",
    "# 11️⃣ Format and export submission\n",
    "submission = (\n",
    "    test_df[['srch_id', 'prop_id', 'score']]\n",
    "    .sort_values(['srch_id', 'score'], ascending=[True, False])\n",
    "    .loc[:, ['srch_id', 'prop_id']]\n",
    "    .rename(columns={'srch_id': 'srch_id', 'prop_id': 'prop_id'})\n",
    ")\n",
    "\n",
    "submission.to_csv('VU-DM-2025GROUP-114.csv', index=False)\n",
    "print(\"✅ Submission saved as 'VU-DM-2025GROUP-114.csv' 🚀\")"
   ]
  }
 ],
 "metadata": {
  "kernelspec": {
   "display_name": "Python 3",
   "language": "python",
   "name": "python3"
  },
  "language_info": {
   "codemirror_mode": {
    "name": "ipython",
    "version": 3
   },
   "file_extension": ".py",
   "mimetype": "text/x-python",
   "name": "python",
   "nbconvert_exporter": "python",
   "pygments_lexer": "ipython3",
   "version": "3.12.1"
  }
 },
 "nbformat": 4,
 "nbformat_minor": 5
}
