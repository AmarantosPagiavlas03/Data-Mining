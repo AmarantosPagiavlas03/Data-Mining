{
 "cells": [
  {
   "cell_type": "markdown",
   "id": "e17e0e52",
   "metadata": {},
   "source": [
    "# Initialization"
   ]
  },
  {
   "cell_type": "code",
   "execution_count": 7,
   "id": "6fe6dc27",
   "metadata": {},
   "outputs": [
    {
     "name": "stdout",
     "output_type": "stream",
     "text": [
      "The autoreload extension is already loaded. To reload it, use:\n",
      "  %reload_ext autoreload\n"
     ]
    }
   ],
   "source": [
    "%load_ext autoreload\n",
    "%autoreload 2"
   ]
  },
  {
   "cell_type": "code",
   "execution_count": 8,
   "id": "c53a1b5d",
   "metadata": {},
   "outputs": [],
   "source": [
    "# initialization\n",
    "import pandas as pd\n",
    "import matplotlib.pyplot as plt\n",
    "import seaborn as sns\n",
    "from main import LogisticRegressionPipeline ,DataLoader, Plotter,BasicInfoStep,MissingValuesStep, NumericSummaryStep, CategoricalAnalysisStep, EdaPipeline, FeatureEngineering\n",
    "\n",
    "sns.set_theme(style=\"whitegrid\")\n",
    "plt.rcParams['figure.figsize'] = (10, 6) "
   ]
  },
  {
   "cell_type": "code",
   "execution_count": 9,
   "id": "87fa7cba",
   "metadata": {},
   "outputs": [
    {
     "name": "stdout",
     "output_type": "stream",
     "text": [
      "Loading data from training_set_VU_DM.csv\n",
      "Loaded: (4958347, 54)\n"
     ]
    }
   ],
   "source": [
    "#loading the dataset\n",
    "loader = DataLoader()\n",
    "df = loader.load()"
   ]
  },
  {
   "cell_type": "markdown",
   "id": "f508712f",
   "metadata": {},
   "source": [
    "# Exploratory Data Analysis"
   ]
  },
  {
   "cell_type": "code",
   "execution_count": 21,
   "id": "a6d0a0c9",
   "metadata": {},
   "outputs": [
    {
     "name": "stdout",
     "output_type": "stream",
     "text": [
      "\n",
      "=== Starting EDA Pipeline ===\n",
      "\n",
      "--- Missing Values ---\n",
      "shape: (1, 3)\n",
      "┌───────────────────┬─────────┬──────┐\n",
      "│ column            ┆ missing ┆ pct  │\n",
      "│ ---               ┆ ---     ┆ ---  │\n",
      "│ str               ┆ u32     ┆ f64  │\n",
      "╞═══════════════════╪═════════╪══════╡\n",
      "│ prop_review_score ┆ 7364    ┆ 0.15 │\n",
      "└───────────────────┴─────────┴──────┘\n",
      "=== EDA Pipeline Complete ===\n",
      "shape: (4_958_347, 54)\n",
      "┌─────────┬────────────┬─────────┬────────────┬───┬────────────┬───────────┬───────────┬───────────┐\n",
      "│ srch_id ┆ date_time  ┆ site_id ┆ visitor_lo ┆ … ┆ comp8_rate ┆ click_boo ┆ gross_boo ┆ booking_b │\n",
      "│ ---     ┆ ---        ┆ ---     ┆ cation_cou ┆   ┆ _percent_d ┆ l         ┆ kings_usd ┆ ool       │\n",
      "│ i64     ┆ str        ┆ i64     ┆ ntry_id    ┆   ┆ iff        ┆ ---       ┆ ---       ┆ ---       │\n",
      "│         ┆            ┆         ┆ ---        ┆   ┆ ---        ┆ i64       ┆ str       ┆ i64       │\n",
      "│         ┆            ┆         ┆ i64        ┆   ┆ str        ┆           ┆           ┆           │\n",
      "╞═════════╪════════════╪═════════╪════════════╪═══╪════════════╪═══════════╪═══════════╪═══════════╡\n",
      "│ 1       ┆ 2013-04-04 ┆ 12      ┆ 187        ┆ … ┆ NULL       ┆ 0         ┆ NULL      ┆ 0         │\n",
      "│         ┆ 08:32:15   ┆         ┆            ┆   ┆            ┆           ┆           ┆           │\n",
      "│ 1       ┆ 2013-04-04 ┆ 12      ┆ 187        ┆ … ┆ NULL       ┆ 0         ┆ NULL      ┆ 0         │\n",
      "│         ┆ 08:32:15   ┆         ┆            ┆   ┆            ┆           ┆           ┆           │\n",
      "│ 1       ┆ 2013-04-04 ┆ 12      ┆ 187        ┆ … ┆ NULL       ┆ 0         ┆ NULL      ┆ 0         │\n",
      "│         ┆ 08:32:15   ┆         ┆            ┆   ┆            ┆           ┆           ┆           │\n",
      "│ 1       ┆ 2013-04-04 ┆ 12      ┆ 187        ┆ … ┆ 5          ┆ 0         ┆ NULL      ┆ 0         │\n",
      "│         ┆ 08:32:15   ┆         ┆            ┆   ┆            ┆           ┆           ┆           │\n",
      "│ 1       ┆ 2013-04-04 ┆ 12      ┆ 187        ┆ … ┆ NULL       ┆ 0         ┆ NULL      ┆ 0         │\n",
      "│         ┆ 08:32:15   ┆         ┆            ┆   ┆            ┆           ┆           ┆           │\n",
      "│ …       ┆ …          ┆ …       ┆ …          ┆ … ┆ …          ┆ …         ┆ …         ┆ …         │\n",
      "│ 332785  ┆ 2013-06-30 ┆ 5       ┆ 219        ┆ … ┆ NULL       ┆ 0         ┆ NULL      ┆ 0         │\n",
      "│         ┆ 19:55:18   ┆         ┆            ┆   ┆            ┆           ┆           ┆           │\n",
      "│ 332785  ┆ 2013-06-30 ┆ 5       ┆ 219        ┆ … ┆ NULL       ┆ 0         ┆ NULL      ┆ 0         │\n",
      "│         ┆ 19:55:18   ┆         ┆            ┆   ┆            ┆           ┆           ┆           │\n",
      "│ 332785  ┆ 2013-06-30 ┆ 5       ┆ 219        ┆ … ┆ NULL       ┆ 0         ┆ NULL      ┆ 0         │\n",
      "│         ┆ 19:55:18   ┆         ┆            ┆   ┆            ┆           ┆           ┆           │\n",
      "│ 332785  ┆ 2013-06-30 ┆ 5       ┆ 219        ┆ … ┆ NULL       ┆ 1         ┆ 157.84    ┆ 1         │\n",
      "│         ┆ 19:55:18   ┆         ┆            ┆   ┆            ┆           ┆           ┆           │\n",
      "│ 332785  ┆ 2013-06-30 ┆ 5       ┆ 219        ┆ … ┆ NULL       ┆ 0         ┆ NULL      ┆ 0         │\n",
      "│         ┆ 19:55:18   ┆         ┆            ┆   ┆            ┆           ┆           ┆           │\n",
      "└─────────┴────────────┴─────────┴────────────┴───┴────────────┴───────────┴───────────┴───────────┘\n"
     ]
    }
   ],
   "source": [
    "# EDA\n",
    "plotter = Plotter(save=False)\n",
    "steps = [\n",
    "    # BasicInfoStep(),\n",
    "    MissingValuesStep(),\n",
    "    # NumericSummaryStep(plotter, plot=True, corr=True, corr_sample_frac=0.3, max_distributions=5),\n",
    "    # CategoricalAnalysisStep(plotter, plot=True, threshold=50, max_plots=10),\n",
    "]\n",
    "pipeline = EdaPipeline(steps)\n",
    "pipeline.run(df)\n",
    "print(df)"
   ]
  },
  {
   "cell_type": "code",
   "execution_count": 25,
   "id": "e9f554d3",
   "metadata": {},
   "outputs": [
    {
     "name": "stdout",
     "output_type": "stream",
     "text": [
      "Missing Values Report:\n",
      "srch_id: 0.00%  (0 nulls)\n",
      "date_time: 0.00%  (0 nulls)\n",
      "site_id: 0.00%  (0 nulls)\n",
      "visitor_location_country_id: 0.00%  (0 nulls)\n",
      "visitor_hist_starrating: 0.00%  (0 nulls)\n",
      "visitor_hist_adr_usd: 0.00%  (0 nulls)\n",
      "prop_country_id: 0.00%  (0 nulls)\n",
      "prop_id: 0.00%  (0 nulls)\n",
      "prop_starrating: 0.00%  (0 nulls)\n",
      "prop_review_score: 0.15%  (7364 nulls)\n",
      "prop_brand_bool: 0.00%  (0 nulls)\n",
      "prop_location_score1: 0.00%  (0 nulls)\n",
      "prop_location_score2: 0.00%  (0 nulls)\n",
      "prop_log_historical_price: 0.00%  (0 nulls)\n",
      "position: 0.00%  (0 nulls)\n",
      "price_usd: 0.00%  (0 nulls)\n",
      "promotion_flag: 0.00%  (0 nulls)\n",
      "srch_destination_id: 0.00%  (0 nulls)\n",
      "srch_length_of_stay: 0.00%  (0 nulls)\n",
      "srch_booking_window: 0.00%  (0 nulls)\n",
      "srch_adults_count: 0.00%  (0 nulls)\n",
      "srch_children_count: 0.00%  (0 nulls)\n",
      "srch_room_count: 0.00%  (0 nulls)\n",
      "srch_saturday_night_bool: 0.00%  (0 nulls)\n",
      "srch_query_affinity_score: 0.00%  (0 nulls)\n",
      "orig_destination_distance: 0.00%  (0 nulls)\n",
      "random_bool: 0.00%  (0 nulls)\n",
      "comp1_rate: 0.00%  (0 nulls)\n",
      "comp1_inv: 0.00%  (0 nulls)\n",
      "comp1_rate_percent_diff: 0.00%  (0 nulls)\n",
      "comp2_rate: 0.00%  (0 nulls)\n",
      "comp2_inv: 0.00%  (0 nulls)\n",
      "comp2_rate_percent_diff: 0.00%  (0 nulls)\n",
      "comp3_rate: 0.00%  (0 nulls)\n",
      "comp3_inv: 0.00%  (0 nulls)\n",
      "comp3_rate_percent_diff: 0.00%  (0 nulls)\n",
      "comp4_rate: 0.00%  (0 nulls)\n",
      "comp4_inv: 0.00%  (0 nulls)\n",
      "comp4_rate_percent_diff: 0.00%  (0 nulls)\n",
      "comp5_rate: 0.00%  (0 nulls)\n",
      "comp5_inv: 0.00%  (0 nulls)\n",
      "comp5_rate_percent_diff: 0.00%  (0 nulls)\n",
      "comp6_rate: 0.00%  (0 nulls)\n",
      "comp6_inv: 0.00%  (0 nulls)\n",
      "comp6_rate_percent_diff: 0.00%  (0 nulls)\n",
      "comp7_rate: 0.00%  (0 nulls)\n",
      "comp7_inv: 0.00%  (0 nulls)\n",
      "comp7_rate_percent_diff: 0.00%  (0 nulls)\n",
      "comp8_rate: 0.00%  (0 nulls)\n",
      "comp8_inv: 0.00%  (0 nulls)\n",
      "comp8_rate_percent_diff: 0.00%  (0 nulls)\n",
      "click_bool: 0.00%  (0 nulls)\n",
      "gross_bookings_usd: 0.00%  (0 nulls)\n",
      "booking_bool: 0.00%  (0 nulls)\n"
     ]
    },
    {
     "name": "stderr",
     "output_type": "stream",
     "text": [
      "/var/folders/8z/j1fvbkp53t7229vfbz3fr7100000gn/T/ipykernel_4804/1761160232.py:7: DeprecationWarning: `DataFrame.melt` is deprecated. Use `unpivot` instead, with `index` instead of `id_vars` and `on` instead of `value_vars`\n",
      "  .melt(variable_name=\"column\", value_name=\"missing\")\n"
     ]
    }
   ],
   "source": [
    "import polars as pl\n",
    "\n",
    "# Build a table of (column, missing, pct)\n",
    "missing_table = (\n",
    "    df\n",
    "    .null_count()\n",
    "    .melt(variable_name=\"column\", value_name=\"missing\")\n",
    "    .with_columns(\n",
    "        (pl.col(\"missing\") / df.height * 100).round(2).alias(\"pct\")\n",
    "    )\n",
    ")\n",
    "\n",
    "print(\"Missing Values Report:\")\n",
    "for row in missing_table.to_dicts():\n",
    "    print(f\"{row['column']}: {row['pct']:.2f}%  ({row['missing']} nulls)\")\n"
   ]
  },
  {
   "cell_type": "markdown",
   "id": "a45f63dc",
   "metadata": {},
   "source": [
    "# Feature Engineering"
   ]
  },
  {
   "cell_type": "code",
   "execution_count": 5,
   "id": "d2e7a357",
   "metadata": {},
   "outputs": [
    {
     "name": "stdout",
     "output_type": "stream",
     "text": [
      "shape: (54, 3)\n",
      "┌─────────────────────────────┬─────────┬──────┐\n",
      "│ column                      ┆ missing ┆ pct  │\n",
      "│ ---                         ┆ ---     ┆ ---  │\n",
      "│ str                         ┆ u32     ┆ f64  │\n",
      "╞═════════════════════════════╪═════════╪══════╡\n",
      "│ prop_review_score           ┆ 7364    ┆ 0.15 │\n",
      "│ srch_id                     ┆ 0       ┆ 0.0  │\n",
      "│ date_time                   ┆ 0       ┆ 0.0  │\n",
      "│ site_id                     ┆ 0       ┆ 0.0  │\n",
      "│ visitor_location_country_id ┆ 0       ┆ 0.0  │\n",
      "│ …                           ┆ …       ┆ …    │\n",
      "│ comp8_inv                   ┆ 0       ┆ 0.0  │\n",
      "│ comp8_rate_percent_diff     ┆ 0       ┆ 0.0  │\n",
      "│ click_bool                  ┆ 0       ┆ 0.0  │\n",
      "│ gross_bookings_usd          ┆ 0       ┆ 0.0  │\n",
      "│ booking_bool                ┆ 0       ┆ 0.0  │\n",
      "└─────────────────────────────┴─────────┴──────┘\n",
      "=== FeatureEngineering.fit ===\n",
      "Dropping 0 columns > 70.0% null:\n",
      "\n",
      "Imputing 39 columns:\n",
      "  • 'prop_review_score' → 4.0\n",
      "  • 'srch_id' → 166507.0\n",
      "  • 'site_id' → 5.0\n",
      "  • 'visitor_location_country_id' → 219.0\n",
      "  • 'prop_country_id' → 219.0\n",
      "  • 'prop_id' → 69638.0\n",
      "  • 'prop_starrating' → 3.0\n",
      "  • 'prop_brand_bool' → 1.0\n",
      "  • 'prop_location_score1' → 2.77\n",
      "  • 'prop_log_historical_price' → 4.91\n",
      "  • 'position' → 16.0\n",
      "  • 'price_usd' → 122.0\n",
      "  • 'promotion_flag' → 0.0\n",
      "  • 'srch_destination_id' → 13541.0\n",
      "  • 'srch_length_of_stay' → 2.0\n",
      "  • 'srch_booking_window' → 17.0\n",
      "  • 'srch_adults_count' → 2.0\n",
      "  • 'srch_children_count' → 0.0\n",
      "  • 'srch_room_count' → 1.0\n",
      "  • 'srch_saturday_night_bool' → 1.0\n",
      "  • 'random_bool' → 0.0\n",
      "  • 'comp1_rate' → 'NULL'\n",
      "  • 'comp1_inv' → 'NULL'\n",
      "  • 'comp2_rate' → 'NULL'\n",
      "  • 'comp2_inv' → 'NULL'\n",
      "  • 'comp3_rate' → 'NULL'\n",
      "  • 'comp3_inv' → 'NULL'\n",
      "  • 'comp4_rate' → 'NULL'\n",
      "  • 'comp4_inv' → 'NULL'\n",
      "  • 'comp5_rate' → 'NULL'\n",
      "  • 'comp5_inv' → 'NULL'\n",
      "  • 'comp6_rate' → 'NULL'\n",
      "  • 'comp6_inv' → 'NULL'\n",
      "  • 'comp7_rate' → 'NULL'\n",
      "  • 'comp7_inv' → 'NULL'\n",
      "  • 'comp8_rate' → 'NULL'\n",
      "  • 'comp8_inv' → 'NULL'\n",
      "  • 'click_bool' → 0.0\n",
      "  • 'booking_bool' → 0.0\n",
      "============================\n",
      "\n",
      "=== FeatureEngineering.transform ===\n",
      "Added null‐flag columns (39):\n",
      "  • 'prop_review_score_is_null'\n",
      "  • 'srch_id_is_null'\n",
      "  • 'site_id_is_null'\n",
      "  • 'visitor_location_country_id_is_null'\n",
      "  • 'prop_country_id_is_null'\n",
      "  • 'prop_id_is_null'\n",
      "  • 'prop_starrating_is_null'\n",
      "  • 'prop_brand_bool_is_null'\n",
      "  • 'prop_location_score1_is_null'\n",
      "  • 'prop_log_historical_price_is_null'\n",
      "  • 'position_is_null'\n",
      "  • 'price_usd_is_null'\n",
      "  • 'promotion_flag_is_null'\n",
      "  • 'srch_destination_id_is_null'\n",
      "  • 'srch_length_of_stay_is_null'\n",
      "  • 'srch_booking_window_is_null'\n",
      "  • 'srch_adults_count_is_null'\n",
      "  • 'srch_children_count_is_null'\n",
      "  • 'srch_room_count_is_null'\n",
      "  • 'srch_saturday_night_bool_is_null'\n",
      "  • 'random_bool_is_null'\n",
      "  • 'comp1_rate_is_null'\n",
      "  • 'comp1_inv_is_null'\n",
      "  • 'comp2_rate_is_null'\n",
      "  • 'comp2_inv_is_null'\n",
      "  • 'comp3_rate_is_null'\n",
      "  • 'comp3_inv_is_null'\n",
      "  • 'comp4_rate_is_null'\n",
      "  • 'comp4_inv_is_null'\n",
      "  • 'comp5_rate_is_null'\n",
      "  • 'comp5_inv_is_null'\n",
      "  • 'comp6_rate_is_null'\n",
      "  • 'comp6_inv_is_null'\n",
      "  • 'comp7_rate_is_null'\n",
      "  • 'comp7_inv_is_null'\n",
      "  • 'comp8_rate_is_null'\n",
      "  • 'comp8_inv_is_null'\n",
      "  • 'click_bool_is_null'\n",
      "  • 'booking_bool_is_null'\n",
      "Added engineered features (4):\n",
      "  • 'price_per_person'\n",
      "  • 'price_hist_ratio'\n",
      "  • 'star_review_interaction'\n",
      "  • 'search_weekday'\n",
      "============================\n",
      "\n"
     ]
    }
   ],
   "source": [
    "# feature Engineering\n",
    "fe = FeatureEngineering(cat_threshold=50).fit(df)\n",
    "df1 = fe.transform(df)"
   ]
  },
  {
   "cell_type": "markdown",
   "id": "475bdc5c",
   "metadata": {},
   "source": [
    "# Modelling"
   ]
  },
  {
   "cell_type": "code",
   "execution_count": null,
   "id": "7a3554d9",
   "metadata": {},
   "outputs": [],
   "source": [
    "# Prepare features/target\n",
    "feature_cols = [\"prop_starrating\", \"price_usd\", \"srch_adults_count\"]\n",
    "target_col = \"booking_bool\"\n",
    "X = df.select(feature_cols)\n",
    "y = df[target_col]\n",
    "# Modeling\n",
    "model_pipeline = LogisticRegressionPipeline()\n",
    "model_pipeline.execute(X, y)\n",
    "\n"
   ]
  }
 ],
 "metadata": {
  "kernelspec": {
   "display_name": "Python 3",
   "language": "python",
   "name": "python3"
  },
  "language_info": {
   "codemirror_mode": {
    "name": "ipython",
    "version": 3
   },
   "file_extension": ".py",
   "mimetype": "text/x-python",
   "name": "python",
   "nbconvert_exporter": "python",
   "pygments_lexer": "ipython3",
   "version": "3.12.1"
  }
 },
 "nbformat": 4,
 "nbformat_minor": 5
}
